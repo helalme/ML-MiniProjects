{
 "cells": [
  {
   "cell_type": "markdown",
   "metadata": {
    "colab_type": "text",
    "id": "g_BIGo8a58sM"
   },
   "source": [
    "# Sentiment Analysis "
   ]
  },
  {
   "cell_type": "markdown",
   "metadata": {
    "colab_type": "text",
    "id": "AjKD_NQR58sN"
   },
   "source": [
    "The identification of sentiment in text is an important field of study, it usually involves detecting whether a piece of text expresses a POSITIVE, a NEGATIVE, or a NEUTRAL sentiment; the sentiment can be general or about a specific topic, e.g., a person, a product, or an event. Sentiment analysis has been part of the international workshop on Semantic Evaluation ([SemEval](https://en.wikipedia.org/wiki/SemEval)) for multiple years.\n",
    "\n",
    "The task is to implement a neural network that predicts sentiment (POSITIVE, NEGATIVE, NEUTRAL) for a given text. In the following sections, an approach of dataset preperation, ML model, training and evaluation etc. are provied step by step.\n"
   ]
  },
  {
   "cell_type": "markdown",
   "metadata": {
    "colab_type": "text",
    "id": "9hzgdZfN58sO"
   },
   "source": [
    "## Dataset"
   ]
  },
  {
   "cell_type": "markdown",
   "metadata": {
    "colab_type": "text",
    "id": "4gdA6r_k58sQ"
   },
   "source": [
    "The dataset used to train and test this model is generated from German Amazon reviews. The input is the text of the review, and the network will try to predict the star ratings."
   ]
  },
  {
   "cell_type": "markdown",
   "metadata": {
    "colab_type": "text",
    "id": "gbIVNufZ58sR"
   },
   "source": [
    "Only reviews with 1,3 and 5 star ratings, other reviews with rating 2 and 4 are not included in this dataset. Here: \n",
    "* 1 is considered negative\n",
    "* 3 is considered neutral\n",
    "* 5 is considered positive\n"
   ]
  },
  {
   "cell_type": "markdown",
   "metadata": {
    "colab_type": "text",
    "id": "bjOl8W8E58sR"
   },
   "source": [
    "### Loading the data"
   ]
  },
  {
   "cell_type": "markdown",
   "metadata": {
    "colab_type": "text",
    "id": "zBeu7ZZ758sS"
   },
   "source": [
    "This code block will read necessary data and gives basic info about the dataset using 'reviews' module, However, the module is not free. "
   ]
  },
  {
   "cell_type": "code",
   "execution_count": null,
   "metadata": {
    "colab": {},
    "colab_type": "code",
    "id": "zqHaNuR358sT",
    "outputId": "b6541fbe-c99a-482b-b1be-cfafed5ceae2"
   },
   "outputs": [
    {
     "name": "stdout",
     "output_type": "stream",
     "text": [
      "Total number of reviews: 130762\n",
      "Counter({'5': 97593, '1': 17476, '3': 15693})\n"
     ]
    }
   ],
   "source": [
    "from reviews import get_reviews\n",
    "titles,bodies,ratings,labels,_ = get_reviews()"
   ]
  },
  {
   "cell_type": "markdown",
   "metadata": {
    "colab_type": "text",
    "id": "2FXR5iLE58sb"
   },
   "source": [
    "The number of reviews is originally not equally distributed among the ratings, so the positive reviews from the dataset is downsampled so that there is the same number for each rating. The discarded reviews are picked at random."
   ]
  },
  {
   "cell_type": "code",
   "execution_count": null,
   "metadata": {
    "colab": {},
    "colab_type": "code",
    "id": "RnuClx5_58sb",
    "outputId": "4c5eda58-939d-474d-f47d-5856be4883c6"
   },
   "outputs": [
    {
     "data": {
      "text/plain": [
       "Counter({1: 15693, 3: 15693, 5: 15693})"
      ]
     },
     "execution_count": 2,
     "metadata": {
      "tags": []
     },
     "output_type": "execute_result"
    }
   ],
   "source": [
    "from collections import Counter\n",
    "Counter(ratings)"
   ]
  },
  {
   "cell_type": "markdown",
   "metadata": {
    "colab_type": "text",
    "id": "0MzwqEVe58sf"
   },
   "source": [
    "#### Examples"
   ]
  },
  {
   "cell_type": "markdown",
   "metadata": {
    "colab_type": "text",
    "id": "tVhxRPG658sg"
   },
   "source": [
    "Printing out some data examples:"
   ]
  },
  {
   "cell_type": "code",
   "execution_count": null,
   "metadata": {
    "colab": {},
    "colab_type": "code",
    "id": "dfOOoOr358sh",
    "outputId": "6c449818-6859-4a1c-a909-f095884439af"
   },
   "outputs": [
    {
     "name": "stdout",
     "output_type": "stream",
     "text": [
      "body:\n",
      " Wenn man STAR TREK NEMESIS(2002) gesehen hat und ihn mit seinen Vorgänger vergleicht, dann schneidet DER AUFSTAND(1998) in fast allen Belangen schlechter ab.\n",
      "Schon in der Story selbst gab es Macken. DER AUFSTAND sollte im Gegensatz zu DER ERSTE KONTAKT (1996) wieder ein richtiges THE NEXT GENERATION-Abenteuer werden. Mit einer weitreichenden Philosophie und einer Prise subtilen Humors wollten die Produzenten an die Zeiten der erfolgreichen TV-Serie anknüpfen. Doch sie scheiterten !\n",
      "Die Geschichte um den Kampf der ENTERPRISE-Crew für ein uninteressantes Volk, gepaart mit einer herbeizitierten Verschwörung um einen Sternflottenadmiral und den äußerst langweiligen So'na erwies sich als Genickbruch. Zu langatmig, unspektakulär und aufgesetzt kommt DER AUFSTAND daher. Zwar hat Regisseur und Co-Star Jonathan\"Riker\"Frakes hervorragende Arbeit beim Set-Design und den Charakterzeichnungen geleistet, aber dem schwachen Drehbuch von Ex-DEEP SPACE NINE- und VOYAGER-Produzenten Michael Piller konnte er dennoch nicht „auf die Sprünge\" helfen. Inhaltlich wirkt der Film wie ein Schnellschuss, auch einer der Gründe warum die Serie im Kino für 4 Jahre pausierte.\n",
      "Im Gegensatz dazu der jüngste Trek-Film NEMESIS : Die Crew ist endlich wieder in alter Form auf der Leinwand zu sehen und das in einem Abenteuer, das sich vor den besten TNG-Serien-Geschichten nicht zu verstecken braucht. Trotz aller Action wurde auch der philosophische Ansatz nicht vernachlässigt. So muss sich die Crew dem Leben und seinen stetigen Veränderungen stellen und Picard (Patrick Steward) selbst muss sich mit einem äußerst persönlichen `Was wäre wenn ?'-Szenario befassen (-> siehe auch die NEMESIS- Rezension). Auch viele Kleinigkeiten der TV-Ära wurden wieder aufgegriffen. Egal ob Picard seinen „Earl Grey\" schlürft oder mit seiner „Nummer Eins\" über das Protokoll für Außenmissionen debattiert - das sind die winzigen Details, welche die Serie zur erfolgreichsten ihrer Zeit machte !\n",
      "Ein unerwarteter Lichtblick in DER AUFSTAND war allerdings die neu entfachte Leidenschaft zwischen Deanna Troi (Marina Sirtis) und Will Riker, die sich dann in NEMESIS das „Ja\"-Wort geben. Was außerdem für den AUFSTAND spricht sind dessen grandiosen Landschaftsaufnahmen und der gelungene Soundtrack von Jerry Goldsmith. Auch die Gastrollen sind gut besetzt. Doch der durchaus gut gemeinte Humoransatz ist unpassend und verfremdet die Charaktere - allen voran geben sich Picard, Worf (Michael Dorn) und Data (Brent Spiner) mehr als einmal der Lächerlichkeit preis.\n",
      "Auch die damals neuartigen Effekte waren nicht besonders gelungen - sie wirkten eindeutig künstlich und gaben dem Film einen B-Movie-Touch. Die CGI-Enterprise war im Vergleich zum echten Modell des ERSTEn KONTAKTs ein eindeutiger Rückschritt.\n",
      "Zusammengefasst ist und bleibt DER AUFSTAND der schwächste Vertreter der THE NEXT GENERATION-Kinofilme. Mag sein, dass das TREFFEN DER GENERATIONEN(1994) verwirrender und unausgegorener wirkte, aber wenigstens stimmte das STAR TREK-Feeling. Auch Spannung und Dramatik kamen im Erstling nicht zu kurz. So versinkt DER AUFSTAND (leider!) im Mittelmaß. Mal sehen was der Director's Cut bringt...\n",
      "rating: 3\n",
      "label: 1\n",
      "=========================================================================================\n",
      "body:\n",
      " Sehr schlechte Benutzeroberfläche , ich habe noch nie eine so umständliche Steuersoftware benutzt. Das Programm ist nicht zu empfehlen. Null Sterne\n",
      "rating: 1\n",
      "label: 0\n",
      "=========================================================================================\n",
      "body:\n",
      " Wunderschöne Bilder und diese wundervolle Musik, Melancholie, Trauer, Freude, Liebe - wie bei \"die Schöne und das Biest\",\n",
      "schöne Gesichter, Mystik, Geheimnisvolles, sehr ästhetisch!! Ich fühlte bei dem Film Wehmut und Sehnsucht. Ein\n",
      "wirklich sehr schöner Fantasy Film - Danke!\n",
      "rating: 5\n",
      "label: 2\n",
      "=========================================================================================\n",
      "body:\n",
      " Bei einem Lisenfilter hat eine glasklare und einwandfrei vergütete Scheibenoberfläche oberste Priorität. Die gesamte Oberfläche des gelieferten Filterglases ist jedoch leicht gesprenkelt und das geht auch mit einem Lisenpflege-Set nicht weg. Bei einem teuren Objektiv sollte man daher nicht am Filter sparen.\n",
      "rating: 3\n",
      "label: 1\n",
      "=========================================================================================\n",
      "body:\n",
      " Vorsicht beim Bestellen am Fernseher - wer fälschlicher Weise glaubt es sei \"Silentium\" mit Josef Hader wird leider enttäuscht. Hier handelt es sich um eine Doku über das leben im Kloster. Leider wird der Film angezeigt wenn man nach Filme mit Josef Hader sucht.\n",
      "rating: 1\n",
      "label: 0\n",
      "=========================================================================================\n"
     ]
    }
   ],
   "source": [
    "for idx in range(40,45):\n",
    "    #print(\"title:\\n %s\" % titles[idx])\n",
    "    print(\"body:\\n %s\" % bodies[idx])\n",
    "    print(\"rating: %d\" % ratings[idx])\n",
    "    print(\"label: %d\" % labels[idx])\n",
    "    print(\"=========================================================================================\")"
   ]
  },
  {
   "cell_type": "markdown",
   "metadata": {
    "colab_type": "text",
    "id": "qGyMxtVU58sn"
   },
   "source": [
    "### Word Embeddings and Features"
   ]
  },
  {
   "cell_type": "markdown",
   "metadata": {
    "colab_type": "text",
    "id": "JRIELpZW58so"
   },
   "source": [
    "To convert text to vector space, we use [word embeddings](https://en.wikipedia.org/wiki/Word_embedding) where words from the vocabulary are mapped to vectors of real numbers.\n",
    "\n",
    "Multiple versions of the word embeddings have already been implemented, we use Facebook's [FastText](https://research.fb.com/fasttext/) library.\n"
   ]
  },
  {
   "cell_type": "code",
   "execution_count": null,
   "metadata": {
    "colab": {},
    "colab_type": "code",
    "id": "knoMoGVu58sp"
   },
   "outputs": [],
   "source": [
    "import numpy as np\n",
    "import fasttext"
   ]
  },
  {
   "cell_type": "markdown",
   "metadata": {
    "colab_type": "text",
    "id": "hCSzR2In58st"
   },
   "source": [
    "Loading the Fasttext model (the following code might take some time to run, because the model is big)"
   ]
  },
  {
   "cell_type": "code",
   "execution_count": null,
   "metadata": {
    "colab": {},
    "colab_type": "code",
    "id": "R3urPbHx58su"
   },
   "outputs": [],
   "source": [
    "fasttext_model_path = '/data/detext_tuning_0041.bin'\n",
    "fasttext_model = fasttext.load_model(fasttext_model_path, encoding='utf-8')"
   ]
  },
  {
   "cell_type": "markdown",
   "metadata": {
    "colab_type": "text",
    "id": "fAZTw3ry58s0"
   },
   "source": [
    "All texts in the dataset are convert into sequences of word indices. A \"word index\" would simply be an integer ID for the word. The sequences will be truncated to a maximum length of 200 words. If sequences are shorter than 200, then we need to pad them with zeros.\n",
    "\n"
   ]
  },
  {
   "cell_type": "code",
   "execution_count": null,
   "metadata": {
    "colab": {},
    "colab_type": "code",
    "id": "J_KZAgKO58s0"
   },
   "outputs": [],
   "source": [
    "MAX_SEQUENCE_LENGTH = 200\n",
    "EMBEDDING_DIM = fasttext_model.dim"
   ]
  },
  {
   "cell_type": "markdown",
   "metadata": {
    "colab_type": "text",
    "id": "Znf-tAIp58s4"
   },
   "source": [
    "### Task 1: Building a Vocabulary\n",
    "\n",
    "Build a vocabulary from the dataset, the vocabulary should be a dictionary where the key is the word and the value is a unique word index (vocabulary[string] = int). Please consider the size of the vocabulary, and how it affects the training process.\n",
    "\n"
   ]
  },
  {
   "cell_type": "code",
   "execution_count": null,
   "metadata": {
    "colab": {},
    "colab_type": "code",
    "id": "3sVLJwqm58s5"
   },
   "outputs": [],
   "source": [
    "from tensorflow.keras.preprocessing.text import Tokenizer\n",
    "\n",
    "max_features = 2000\n",
    "oov_tok = \"<OOV>\"\n",
    "tokenizer = Tokenizer(num_words=max_features,oov_token=oov_tok, split=' ')\n",
    "tokenizer.fit_on_texts(bodies)\n",
    "vocabulary=tokenizer.word_index"
   ]
  },
  {
   "cell_type": "code",
   "execution_count": null,
   "metadata": {
    "colab": {},
    "colab_type": "code",
    "id": "t2VqehD_58s9",
    "outputId": "6ea31b27-4cf3-443f-e3cc-43ee79286301"
   },
   "outputs": [
    {
     "data": {
      "text/plain": [
       "5"
      ]
     },
     "execution_count": 8,
     "metadata": {
      "tags": []
     },
     "output_type": "execute_result"
    }
   ],
   "source": [
    "vocabulary['ich']"
   ]
  },
  {
   "cell_type": "markdown",
   "metadata": {
    "colab_type": "text",
    "id": "Ux_lfxZI58tC"
   },
   "source": [
    "From texts to sequences of word indices."
   ]
  },
  {
   "cell_type": "code",
   "execution_count": null,
   "metadata": {
    "colab": {},
    "colab_type": "code",
    "id": "rSopkenI58tD",
    "outputId": "c4b6a426-e7ae-43c5-f729-d7c94a232d1d"
   },
   "outputs": [
    {
     "name": "stderr",
     "output_type": "stream",
     "text": [
      "Using TensorFlow backend.\n"
     ]
    }
   ],
   "source": [
    "from keras.preprocessing.sequence import pad_sequences \n",
    "\n",
    "'''\n",
    "sequences = []\n",
    "for text in bodies:\n",
    "    text = text.split()\n",
    "    text_sequence = []\n",
    "    for word in text:\n",
    "        text_sequence.append(vocabulary[word])\n",
    "    sequences.append(text_sequence)\n",
    "\n",
    "bodies_seq = pad_sequences(sequences, maxlen=MAX_SEQUENCE_LENGTH)\n",
    "'''\n",
    "\n",
    "bodies_seq = tokenizer.texts_to_sequences(bodies)\n",
    "bodies_seq = pad_sequences(bodies_seq, maxlen=MAX_SEQUENCE_LENGTH)"
   ]
  },
  {
   "cell_type": "markdown",
   "metadata": {
    "colab_type": "text",
    "id": "DuVn4vyc58tH"
   },
   "source": [
    "### Splitting into Train/Val/Test Sets"
   ]
  },
  {
   "cell_type": "markdown",
   "metadata": {
    "colab_type": "text",
    "id": "0ZNYzHnD58tI"
   },
   "source": [
    "Split the dataset into 3 sets: train, validation and test.\n",
    "\n",
    "We use ```sklearn.model_selection.train_test_split``` twice. First to split to train, val and then split val again into val and test. "
   ]
  },
  {
   "cell_type": "code",
   "execution_count": null,
   "metadata": {
    "colab": {},
    "colab_type": "code",
    "id": "motWvUcQ58tJ",
    "outputId": "f73a2429-b8e0-4c9c-9d9f-2081b73e3eeb",
    "scrolled": false
   },
   "outputs": [
    {
     "name": "stdout",
     "output_type": "stream",
     "text": [
      "Train: 42371 examples\n",
      "Val: 2354 examples\n",
      "Test: 2354 examples\n"
     ]
    }
   ],
   "source": [
    "from sklearn.model_selection import train_test_split\n",
    "\n",
    "data = {\n",
    "    'train': {},\n",
    "    'val': {},\n",
    "    'test': {},\n",
    "}\n",
    "\n",
    "(data['train']['text'],\n",
    " data['val']['text'],\n",
    " data['train']['y'],\n",
    " data['val']['y']\n",
    ") = train_test_split(bodies_seq, labels, test_size=0.1)\n",
    "\n",
    "(data['val']['text'],\n",
    " data['test']['text'],\n",
    " data['val']['y'],\n",
    " data['test']['y']\n",
    ") = train_test_split(data['val']['text'], data['val']['y'], test_size=0.5)\n",
    "\n",
    "print('Train: {} examples'.format(len(data['train']['y'])))\n",
    "print('Val: {} examples'.format(len(data['val']['y'])))\n",
    "print('Test: {} examples'.format(len(data['test']['y'])))"
   ]
  },
  {
   "cell_type": "code",
   "execution_count": null,
   "metadata": {
    "colab": {},
    "colab_type": "code",
    "id": "t9QA9Pjk58tN",
    "outputId": "45c5a36a-af72-4d62-88af-6fed0b46ad35"
   },
   "outputs": [
    {
     "name": "stdout",
     "output_type": "stream",
     "text": [
      "[   0    0    0    0    0    0    0    0    0    0    0    0    0    0\n",
      "    0    0    0    0    0    0    0    0    0    0    0    0    0    0\n",
      "    0    0    0    0    0    0    0    0    0    0    0    0    0    0\n",
      "    0    0    0    0    0    0    0    0    0    0    0    0    0    0\n",
      "    0    0    0    0    0    0    0    0    0    0    0    0    0    0\n",
      "    0    0    0    0    0    0    0    0    0    0    0    0    0    0\n",
      "    0    0    0    0    0    0    0    0    0    0    0    0    0    0\n",
      "    0    0    0    0    0    0    0    0    0    0    0   21   13  222\n",
      "  796  451   66   33  172   25    5   46   10   28  335   76    1    1\n",
      "  178  161   24  172 1691   35   65  110  560   18   38   28 1287  235\n",
      "   37   56   29   14    1    4    1    1 1935    3    6   12   40   97\n",
      "    1    1   55  165    1    1   38    4    1    1   19   56   12  772\n",
      "   34    2  419   21    1    1    1  913   97  530  445   42    5  151\n",
      "    6   83   96  271    8    1  858   62  710 1541    4    1  345  548\n",
      "   91  301   75  450]\n",
      "0\n"
     ]
    }
   ],
   "source": [
    "print(data['test']['text'][0])\n",
    "print(data['test']['y'][0])"
   ]
  },
  {
   "cell_type": "markdown",
   "metadata": {
    "colab_type": "text",
    "id": "vElmTwE258tQ"
   },
   "source": [
    "## Neural Network"
   ]
  },
  {
   "cell_type": "code",
   "execution_count": null,
   "metadata": {
    "colab": {},
    "colab_type": "code",
    "id": "A9vNcNd658tR"
   },
   "outputs": [],
   "source": [
    "import keras\n",
    "from keras import layers\n",
    "from keras import backend as K\n",
    "from keras_tqdm import TQDMNotebookCallback\n",
    "from IPython import display"
   ]
  },
  {
   "cell_type": "markdown",
   "metadata": {
    "colab_type": "text",
    "id": "tOctNGYE58tU"
   },
   "source": [
    "### The Embedding layer"
   ]
  },
  {
   "cell_type": "markdown",
   "metadata": {
    "colab_type": "text",
    "id": "uG1Nndq858tU"
   },
   "source": [
    "Prepare an \"embedding matrix\" which will contain at index i the embedding vector for the word of index i in our word index."
   ]
  },
  {
   "cell_type": "code",
   "execution_count": null,
   "metadata": {
    "colab": {},
    "colab_type": "code",
    "id": "KlWuFuU858tV"
   },
   "outputs": [],
   "source": [
    "embedding_matrix = np.zeros((len(vocabulary) + 1, EMBEDDING_DIM)) \n",
    "for word, i in vocabulary.items():\n",
    "    if word in fasttext_model:\n",
    "        embedding_matrix[i] = fasttext_model[word]"
   ]
  },
  {
   "cell_type": "code",
   "execution_count": null,
   "metadata": {
    "colab": {},
    "colab_type": "code",
    "id": "CMdlL-jD58ta"
   },
   "outputs": [],
   "source": [
    "#fasttext_model['toll']"
   ]
  },
  {
   "cell_type": "markdown",
   "metadata": {
    "colab_type": "text",
    "id": "bhbEAr-I58th"
   },
   "source": [
    "### Model Definition"
   ]
  },
  {
   "cell_type": "code",
   "execution_count": null,
   "metadata": {
    "colab": {},
    "colab_type": "code",
    "id": "Ks2pDkiE58ti"
   },
   "outputs": [],
   "source": [
    "class BaselineModel(keras.models.Model):\n",
    "    \n",
    "    def __init__(self):\n",
    "        input_layer = layers.Input(shape=(MAX_SEQUENCE_LENGTH,), name='Input')\n",
    "        embedding_layer = layers.Embedding(len(vocabulary) + 1, EMBEDDING_DIM, weights=[embedding_matrix],\n",
    "                            input_length=MAX_SEQUENCE_LENGTH, name='Embedding')(input_layer)\n",
    "            \n",
    "        fc_layer = layers.Dense(units=100, name='FullyConnected')(embedding_layer)\n",
    "        \n",
    "        fc_layer  = layers.Flatten(name=\"Flatten\")(fc_layer)\n",
    "        \n",
    "        predictions = layers.Dense(3, name='Output')(fc_layer)\n",
    "        \n",
    "        super().__init__(inputs=[input_layer], outputs=predictions)\n",
    "        \n",
    "    def compile(self):\n",
    "        return super().compile(optimizer=keras.optimizers.Adam(lr=0.001), loss='mse')"
   ]
  },
  {
   "cell_type": "code",
   "execution_count": null,
   "metadata": {
    "colab": {},
    "colab_type": "code",
    "id": "YGbvKnwl58tl",
    "outputId": "f3b74c9f-65b9-4bb4-e292-f48506f3db61"
   },
   "outputs": [
    {
     "name": "stdout",
     "output_type": "stream",
     "text": [
      "WARNING:tensorflow:From /usr/local/lib/python3.5/dist-packages/tensorflow/python/framework/op_def_library.py:263: colocate_with (from tensorflow.python.framework.ops) is deprecated and will be removed in a future version.\n",
      "Instructions for updating:\n",
      "Colocations handled automatically by placer.\n"
     ]
    }
   ],
   "source": [
    "model = BaselineModel()\n",
    "model.compile()"
   ]
  },
  {
   "cell_type": "code",
   "execution_count": null,
   "metadata": {
    "colab": {},
    "colab_type": "code",
    "id": "ySNnPcro58tq",
    "outputId": "2d7839a1-3e07-4b10-cbbb-17f15326df18"
   },
   "outputs": [
    {
     "data": {
      "image/png": "[encoded data removed]",
      "text/plain": [
       "<IPython.core.display.Image object>"
      ]
     },
     "metadata": {
      "tags": []
     },
     "output_type": "display_data"
    }
   ],
   "source": [
    "display.display(display.Image(keras.utils.vis_utils.model_to_dot(model, show_shapes=True).create_png()))"
   ]
  },
  {
   "cell_type": "markdown",
   "metadata": {
    "colab_type": "text",
    "id": "ikzAf98T58tt"
   },
   "source": [
    "### Model Training"
   ]
  },
  {
   "cell_type": "code",
   "execution_count": null,
   "metadata": {
    "colab": {
     "referenced_widgets": [
      "372d7a7404bc462ba7e7433640b5da50",
      "28b1fecb79474eb0a3f02713e18b7b34",
      "96d1a5a4646242448498efb433038e1b",
      "535d061d37ca4453a32e8d57cee87176",
      "7f0bf466c9fc4c598ab783c99c7b24a1",
      "d97d551d8f8e4bfdb487e6f6acc6a9d2",
      "587cce87082b45e4bab03640e45eb8d1",
      "cb86fdaaacca44ff8a9273f94bae6da2",
      "7f51225c22704f5d99d261a89b0011e2",
      "9f42b011bde946b892fbdd06f8eb7f63",
      "3e9ef384a9d249609b0c4c52815f7959"
     ]
    },
    "colab_type": "code",
    "id": "kB6mqX2558tu",
    "outputId": "73768040-3bec-4976-ae33-b7f20d6740d1"
   },
   "outputs": [
    {
     "name": "stdout",
     "output_type": "stream",
     "text": [
      "WARNING:tensorflow:From /usr/local/lib/python3.5/dist-packages/tensorflow/python/ops/math_ops.py:3066: to_int32 (from tensorflow.python.ops.math_ops) is deprecated and will be removed in a future version.\n",
      "Instructions for updating:\n",
      "Use tf.cast instead.\n"
     ]
    },
    {
     "data": {
      "application/vnd.jupyter.widget-view+json": {
       "model_id": "372d7a7404bc462ba7e7433640b5da50",
       "version_major": 2,
       "version_minor": 0
      },
      "text/plain": [
       "HBox(children=(IntProgress(value=0, description='Training', max=10, style=ProgressStyle(description_width='ini…"
      ]
     },
     "metadata": {
      "tags": []
     },
     "output_type": "display_data"
    },
    {
     "data": {
      "application/vnd.jupyter.widget-view+json": {
       "model_id": "28b1fecb79474eb0a3f02713e18b7b34",
       "version_major": 2,
       "version_minor": 0
      },
      "text/plain": [
       "HBox(children=(IntProgress(value=0, description='Epoch 0', max=42371, style=ProgressStyle(description_width='i…"
      ]
     },
     "metadata": {
      "tags": []
     },
     "output_type": "display_data"
    },
    {
     "data": {
      "application/vnd.jupyter.widget-view+json": {
       "model_id": "96d1a5a4646242448498efb433038e1b",
       "version_major": 2,
       "version_minor": 0
      },
      "text/plain": [
       "HBox(children=(IntProgress(value=0, description='Epoch 1', max=42371, style=ProgressStyle(description_width='i…"
      ]
     },
     "metadata": {
      "tags": []
     },
     "output_type": "display_data"
    },
    {
     "data": {
      "application/vnd.jupyter.widget-view+json": {
       "model_id": "535d061d37ca4453a32e8d57cee87176",
       "version_major": 2,
       "version_minor": 0
      },
      "text/plain": [
       "HBox(children=(IntProgress(value=0, description='Epoch 2', max=42371, style=ProgressStyle(description_width='i…"
      ]
     },
     "metadata": {
      "tags": []
     },
     "output_type": "display_data"
    },
    {
     "data": {
      "application/vnd.jupyter.widget-view+json": {
       "model_id": "7f0bf466c9fc4c598ab783c99c7b24a1",
       "version_major": 2,
       "version_minor": 0
      },
      "text/plain": [
       "HBox(children=(IntProgress(value=0, description='Epoch 3', max=42371, style=ProgressStyle(description_width='i…"
      ]
     },
     "metadata": {
      "tags": []
     },
     "output_type": "display_data"
    },
    {
     "data": {
      "application/vnd.jupyter.widget-view+json": {
       "model_id": "d97d551d8f8e4bfdb487e6f6acc6a9d2",
       "version_major": 2,
       "version_minor": 0
      },
      "text/plain": [
       "HBox(children=(IntProgress(value=0, description='Epoch 4', max=42371, style=ProgressStyle(description_width='i…"
      ]
     },
     "metadata": {
      "tags": []
     },
     "output_type": "display_data"
    },
    {
     "data": {
      "application/vnd.jupyter.widget-view+json": {
       "model_id": "587cce87082b45e4bab03640e45eb8d1",
       "version_major": 2,
       "version_minor": 0
      },
      "text/plain": [
       "HBox(children=(IntProgress(value=0, description='Epoch 5', max=42371, style=ProgressStyle(description_width='i…"
      ]
     },
     "metadata": {
      "tags": []
     },
     "output_type": "display_data"
    },
    {
     "data": {
      "application/vnd.jupyter.widget-view+json": {
       "model_id": "cb86fdaaacca44ff8a9273f94bae6da2",
       "version_major": 2,
       "version_minor": 0
      },
      "text/plain": [
       "HBox(children=(IntProgress(value=0, description='Epoch 6', max=42371, style=ProgressStyle(description_width='i…"
      ]
     },
     "metadata": {
      "tags": []
     },
     "output_type": "display_data"
    },
    {
     "data": {
      "application/vnd.jupyter.widget-view+json": {
       "model_id": "7f51225c22704f5d99d261a89b0011e2",
       "version_major": 2,
       "version_minor": 0
      },
      "text/plain": [
       "HBox(children=(IntProgress(value=0, description='Epoch 7', max=42371, style=ProgressStyle(description_width='i…"
      ]
     },
     "metadata": {
      "tags": []
     },
     "output_type": "display_data"
    },
    {
     "data": {
      "application/vnd.jupyter.widget-view+json": {
       "model_id": "9f42b011bde946b892fbdd06f8eb7f63",
       "version_major": 2,
       "version_minor": 0
      },
      "text/plain": [
       "HBox(children=(IntProgress(value=0, description='Epoch 8', max=42371, style=ProgressStyle(description_width='i…"
      ]
     },
     "metadata": {
      "tags": []
     },
     "output_type": "display_data"
    },
    {
     "data": {
      "application/vnd.jupyter.widget-view+json": {
       "model_id": "3e9ef384a9d249609b0c4c52815f7959",
       "version_major": 2,
       "version_minor": 0
      },
      "text/plain": [
       "HBox(children=(IntProgress(value=0, description='Epoch 9', max=42371, style=ProgressStyle(description_width='i…"
      ]
     },
     "metadata": {
      "tags": []
     },
     "output_type": "display_data"
    },
    {
     "name": "stdout",
     "output_type": "stream",
     "text": [
      "\n"
     ]
    }
   ],
   "source": [
    "history = model.fit([data['train']['text']], keras.utils.to_categorical(data['train']['y'],3),\n",
    "    epochs=10, verbose=0, callbacks=[TQDMNotebookCallback(leave_inner=True,)],\n",
    "    validation_data=([data['val']['text']], keras.utils.to_categorical(data['val']['y'],3)),\n",
    "    batch_size=128)"
   ]
  },
  {
   "cell_type": "code",
   "execution_count": null,
   "metadata": {
    "colab": {},
    "colab_type": "code",
    "id": "MGL307UD58ty",
    "outputId": "55bc0879-8248-4c4e-e835-febfe9737a55"
   },
   "outputs": [
    {
     "data": {
      "text/plain": [
       "<Figure size 640x480 with 1 Axes>"
      ]
     },
     "metadata": {
      "tags": []
     },
     "output_type": "display_data"
    }
   ],
   "source": [
    "import matplotlib.pyplot as plt\n",
    "\n",
    "plt.plot(history.epoch,history.history['loss'],history.epoch,history.history['val_loss'])\n",
    "plt.show()\n",
    "_=_"
   ]
  },
  {
   "cell_type": "markdown",
   "metadata": {
    "colab_type": "text",
    "id": "HJd0vJQT58t2"
   },
   "source": [
    "### Model Evaluation"
   ]
  },
  {
   "cell_type": "markdown",
   "metadata": {
    "colab_type": "text",
    "id": "zK9pDncm58t2"
   },
   "source": [
    "Let's use accuracy to evaluate our model:"
   ]
  },
  {
   "cell_type": "code",
   "execution_count": null,
   "metadata": {
    "colab": {},
    "colab_type": "code",
    "id": "bWycdj1l58t3"
   },
   "outputs": [],
   "source": [
    "from sklearn.metrics import accuracy_score"
   ]
  },
  {
   "cell_type": "code",
   "execution_count": null,
   "metadata": {
    "colab": {},
    "colab_type": "code",
    "id": "7W5YLCPq58t9"
   },
   "outputs": [],
   "source": [
    "h = model.predict([data['test']['text']])"
   ]
  },
  {
   "cell_type": "code",
   "execution_count": null,
   "metadata": {
    "colab": {},
    "colab_type": "code",
    "id": "Q99Lkhak58uA",
    "outputId": "63d0f97c-6d6f-4948-d1dc-8e14990d74ae"
   },
   "outputs": [
    {
     "name": "stdout",
     "output_type": "stream",
     "text": [
      "Accuracy score on 2354 test samples: 0.617672\n"
     ]
    }
   ],
   "source": [
    "predict = np.asarray([np.argmax(i) for i in h])\n",
    "gold = np.asarray(data['test']['y'])\n",
    "resultf1 = accuracy_score(gold, predict)\n",
    "print('Accuracy score on {} test samples: {:.6}'.format(len(predict), resultf1))"
   ]
  },
  {
   "cell_type": "markdown",
   "metadata": {
    "colab_type": "text",
    "id": "wrf1AVEm58uD"
   },
   "source": [
    "### Task 2: Improving the Baseline Model\n",
    "\n",
    "This model is very simple, and it is clearly overfitting with high different in training and validation sets. Please make some minimal changes to increase its accuracy without increasing the model complexity."
   ]
  },
  {
   "cell_type": "markdown",
   "metadata": {
    "colab_type": "raw",
    "collapsed": true,
    "id": "QTRwPlik58uE"
   },
   "source": [
    "#### Used batch_size=2048, Dense layer units=16, Overfitting reduced and test accuracy reached upto 73.9%"
   ]
  },
  {
   "cell_type": "code",
   "execution_count": null,
   "metadata": {
    "colab": {
     "referenced_widgets": [
      "ca17570a48e448628d4b5aaa85420cc1",
      "967016a322784f6aa008a1ebf6ff962f",
      "37b31825dda447c48bee40e3f124325b",
      "f3d1402068154fab96de016069f09e21",
      "63407186cf8c4600b0a17ef94a4332f4",
      "e08b78731b184ca482f43fca13b3d2c3",
      "3f99ab750b6f4bc4a6f1cf378cb550d8",
      "dc46af03577743b9a66faee987d31b02",
      "ae027fb31c744786910481b7e144ffdc",
      "daf9db552e9c4cc0b8bb83140c861bd5",
      "512acdfd22604af7b8a48bfb13f8e44a"
     ]
    },
    "colab_type": "code",
    "id": "mTnIF-uf58uF",
    "outputId": "255c1aa9-510b-4e6e-b923-b825aca41a72"
   },
   "outputs": [
    {
     "data": {
      "application/vnd.jupyter.widget-view+json": {
       "model_id": "ca17570a48e448628d4b5aaa85420cc1",
       "version_major": 2,
       "version_minor": 0
      },
      "text/plain": [
       "HBox(children=(IntProgress(value=0, description='Training', max=10, style=ProgressStyle(description_width='ini…"
      ]
     },
     "metadata": {
      "tags": []
     },
     "output_type": "display_data"
    },
    {
     "data": {
      "application/vnd.jupyter.widget-view+json": {
       "model_id": "967016a322784f6aa008a1ebf6ff962f",
       "version_major": 2,
       "version_minor": 0
      },
      "text/plain": [
       "HBox(children=(IntProgress(value=0, description='Epoch 0', max=42371, style=ProgressStyle(description_width='i…"
      ]
     },
     "metadata": {
      "tags": []
     },
     "output_type": "display_data"
    },
    {
     "data": {
      "application/vnd.jupyter.widget-view+json": {
       "model_id": "37b31825dda447c48bee40e3f124325b",
       "version_major": 2,
       "version_minor": 0
      },
      "text/plain": [
       "HBox(children=(IntProgress(value=0, description='Epoch 1', max=42371, style=ProgressStyle(description_width='i…"
      ]
     },
     "metadata": {
      "tags": []
     },
     "output_type": "display_data"
    },
    {
     "data": {
      "application/vnd.jupyter.widget-view+json": {
       "model_id": "f3d1402068154fab96de016069f09e21",
       "version_major": 2,
       "version_minor": 0
      },
      "text/plain": [
       "HBox(children=(IntProgress(value=0, description='Epoch 2', max=42371, style=ProgressStyle(description_width='i…"
      ]
     },
     "metadata": {
      "tags": []
     },
     "output_type": "display_data"
    },
    {
     "data": {
      "application/vnd.jupyter.widget-view+json": {
       "model_id": "63407186cf8c4600b0a17ef94a4332f4",
       "version_major": 2,
       "version_minor": 0
      },
      "text/plain": [
       "HBox(children=(IntProgress(value=0, description='Epoch 3', max=42371, style=ProgressStyle(description_width='i…"
      ]
     },
     "metadata": {
      "tags": []
     },
     "output_type": "display_data"
    },
    {
     "data": {
      "application/vnd.jupyter.widget-view+json": {
       "model_id": "e08b78731b184ca482f43fca13b3d2c3",
       "version_major": 2,
       "version_minor": 0
      },
      "text/plain": [
       "HBox(children=(IntProgress(value=0, description='Epoch 4', max=42371, style=ProgressStyle(description_width='i…"
      ]
     },
     "metadata": {
      "tags": []
     },
     "output_type": "display_data"
    },
    {
     "data": {
      "application/vnd.jupyter.widget-view+json": {
       "model_id": "3f99ab750b6f4bc4a6f1cf378cb550d8",
       "version_major": 2,
       "version_minor": 0
      },
      "text/plain": [
       "HBox(children=(IntProgress(value=0, description='Epoch 5', max=42371, style=ProgressStyle(description_width='i…"
      ]
     },
     "metadata": {
      "tags": []
     },
     "output_type": "display_data"
    },
    {
     "data": {
      "application/vnd.jupyter.widget-view+json": {
       "model_id": "dc46af03577743b9a66faee987d31b02",
       "version_major": 2,
       "version_minor": 0
      },
      "text/plain": [
       "HBox(children=(IntProgress(value=0, description='Epoch 6', max=42371, style=ProgressStyle(description_width='i…"
      ]
     },
     "metadata": {
      "tags": []
     },
     "output_type": "display_data"
    },
    {
     "data": {
      "application/vnd.jupyter.widget-view+json": {
       "model_id": "ae027fb31c744786910481b7e144ffdc",
       "version_major": 2,
       "version_minor": 0
      },
      "text/plain": [
       "HBox(children=(IntProgress(value=0, description='Epoch 7', max=42371, style=ProgressStyle(description_width='i…"
      ]
     },
     "metadata": {
      "tags": []
     },
     "output_type": "display_data"
    },
    {
     "data": {
      "application/vnd.jupyter.widget-view+json": {
       "model_id": "daf9db552e9c4cc0b8bb83140c861bd5",
       "version_major": 2,
       "version_minor": 0
      },
      "text/plain": [
       "HBox(children=(IntProgress(value=0, description='Epoch 8', max=42371, style=ProgressStyle(description_width='i…"
      ]
     },
     "metadata": {
      "tags": []
     },
     "output_type": "display_data"
    },
    {
     "data": {
      "application/vnd.jupyter.widget-view+json": {
       "model_id": "512acdfd22604af7b8a48bfb13f8e44a",
       "version_major": 2,
       "version_minor": 0
      },
      "text/plain": [
       "HBox(children=(IntProgress(value=0, description='Epoch 9', max=42371, style=ProgressStyle(description_width='i…"
      ]
     },
     "metadata": {
      "tags": []
     },
     "output_type": "display_data"
    },
    {
     "name": "stdout",
     "output_type": "stream",
     "text": [
      "\n"
     ]
    },
    {
     "data": {
      "image/png": "[encoded data removed]",
      "text/plain": [
       "<Figure size 432x288 with 1 Axes>"
      ]
     },
     "metadata": {
      "needs_background": "light",
      "tags": []
     },
     "output_type": "display_data"
    }
   ],
   "source": [
    "class InprovingBaselineModel(keras.models.Model):\n",
    "    \n",
    "    def __init__(self):\n",
    "        input_layer = layers.Input(shape=(MAX_SEQUENCE_LENGTH,), name='Input')\n",
    "        embedding_layer = layers.Embedding(len(vocabulary) + 1, EMBEDDING_DIM, weights=[embedding_matrix],\n",
    "                            input_length=MAX_SEQUENCE_LENGTH, name='Embedding')(input_layer)\n",
    "            \n",
    "        fc_layer = layers.Dense(units=16, name='FullyConnected' )(embedding_layer)\n",
    "        \n",
    "        fc_layer  = layers.Flatten(name=\"Flatten\")(fc_layer)\n",
    "        \n",
    "        predictions = layers.Dense(3, activation='softmax', name='Output')(fc_layer)\n",
    "        \n",
    "        super().__init__(inputs=[input_layer], outputs=predictions)\n",
    "        \n",
    "    def compile(self):\n",
    "        return super().compile( optimizer=keras.optimizers.Adam(lr=0.001), loss='mse')\n",
    "        \n",
    "model = InprovingBaselineModel()\n",
    "model.compile()\n",
    "\n",
    "history = model.fit([data['train']['text']], keras.utils.to_categorical(data['train']['y'],3),\n",
    "    epochs=10, verbose=0, callbacks=[TQDMNotebookCallback(leave_inner=True, )],\n",
    "    validation_data=([data['val']['text']], keras.utils.to_categorical(data['val']['y'],3) ),\n",
    "    batch_size=2048)\n",
    "\n",
    "import matplotlib.pyplot as plt\n",
    "\n",
    "plt.plot(history.epoch,history.history['loss'],history.epoch,history.history['val_loss'])\n",
    "plt.show()\n",
    "_=_"
   ]
  },
  {
   "cell_type": "code",
   "execution_count": null,
   "metadata": {
    "colab": {},
    "colab_type": "code",
    "id": "OQIiZzsy58uI",
    "outputId": "2beb8962-0de1-4aa1-fe08-21a1cfbd9813"
   },
   "outputs": [
    {
     "name": "stdout",
     "output_type": "stream",
     "text": [
      "Accuracy score on 2354 test samples: 0.739592\n"
     ]
    }
   ],
   "source": [
    "h = model.predict([data['test']['text']])\n",
    "predict = np.asarray([np.argmax(i) for i in h])\n",
    "gold = np.asarray(data['test']['y'])\n",
    "resultf1 = accuracy_score(gold, predict)\n",
    "print('Accuracy score on {} test samples: {:.6}'.format(len(predict), resultf1))\n"
   ]
  },
  {
   "cell_type": "markdown",
   "metadata": {
    "colab_type": "text",
    "id": "UIxxQvdE58uN"
   },
   "source": [
    "### Task 3: Test vs. Production Data"
   ]
  },
  {
   "cell_type": "markdown",
   "metadata": {
    "colab_type": "text",
    "id": "18nnxSl458uN"
   },
   "source": [
    "Let's assume we have an additional field in our dataset, named \"product_id\", that contains the id of the product that the review belongs to. There is a total of 400 products in the data.\n",
    "To train our model, we have randomly split the data into train, test and val, as seen above.\n",
    "After training the model, we find that the accuracy on the validation set is 0.84 and on the test set is 0.79.   \n",
    "However, when we apply the model in real life to new reviews, the model is performing significantly worse. Can you explain in the next code block what might have gone wrong?"
   ]
  },
  {
   "cell_type": "code",
   "execution_count": null,
   "metadata": {
    "colab": {},
    "colab_type": "code",
    "id": "Df3XaMLY58uO",
    "outputId": "5bbebb1a-1fbb-41b6-a6ad-384a10fe673a"
   },
   "outputs": [
    {
     "data": {
      "text/plain": [
       "\"\\nSo far my understanding goes, the mapping from the input texts to ouput layer is based on the weights of the word-cluster. \\nThe key of semantic evaluation is the sequnce of words in a sentence, which is missing in the above model. \\nFor example, let's consider 'gut' is positive, 'nicht gut' is negative and 'nicht so gut' is neutral. \\nIf the embedding space considers two words 'nicht', and 'gut' in the opposite direction and the third one 'so' in the middle, then the model might wrongly predict 'nicht gut' as neural. \\nSimilarly, depending on the weights of the model 'nicht so gut' could be wrongly predicted as either positive or negative. \\nSo it would be necessary to use a recurrent network in order to catch the true semantics. \\n\\nTo have a more precise assessment, I think, it might be necessary to visualize confusion matrix and then analyze product-wise some of the wrongly predicted texts. \\n\""
      ]
     },
     "execution_count": 25,
     "metadata": {
      "tags": []
     },
     "output_type": "execute_result"
    }
   ],
   "source": [
    "'''\n",
    "So far my understanding goes, the mapping from the input texts to ouput layer is based on the weights of the word-cluster. \n",
    "The key of semantic evaluation is the sequnce of words in a sentence, which is missing in the above model. \n",
    "For example, let's consider 'gut' is positive, 'nicht gut' is negative and 'nicht so gut' is neutral. \n",
    "If the embedding space considers two words 'nicht', and 'gut' in the opposite direction and the third one 'so' in the middle,\n",
    "then the model might wrongly predict 'nicht gut' as neural. Similarly, depending on the weights of the model 'nicht so gut' \n",
    "could be wrongly predicted as either positive or negative. So it would be necessary to use a recurrent network in order to \n",
    "catch the true semantics. \n",
    "\n",
    "To have a more precise assessment, I think, it might be necessary to visualize confusion matrix and then analyze \n",
    "product-wise some of the wrongly predicted texts. \n",
    "'''"
   ]
  },
  {
   "cell_type": "markdown",
   "metadata": {
    "colab_type": "text",
    "id": "NqgibKcV58uU"
   },
   "source": [
    "### Inference"
   ]
  },
  {
   "cell_type": "code",
   "execution_count": null,
   "metadata": {
    "colab": {},
    "colab_type": "code",
    "id": "Zs07s4c658uV"
   },
   "outputs": [],
   "source": [
    "def infer(texts):\n",
    "    sequences = []\n",
    "    for text in texts:\n",
    "        text = text.split()\n",
    "        text_sequence = []\n",
    "        for word in text:\n",
    "            if word in vocabulary:\n",
    "                text_sequence.append(vocabulary[word])\n",
    "        sequences.append(text_sequence)\n",
    "\n",
    "    padded_seq = pad_sequences(sequences, maxlen=MAX_SEQUENCE_LENGTH)\n",
    "    return model.predict([padded_seq])\n",
    "    "
   ]
  },
  {
   "cell_type": "code",
   "execution_count": null,
   "metadata": {
    "colab": {},
    "colab_type": "code",
    "id": "3QiWiyqS58uc"
   },
   "outputs": [],
   "source": [
    "text = ['das ist schlecht',\n",
    "       'ich finde das echt toll',\n",
    "       'das ist gut',\n",
    "       'das ist nicht schlecht',\n",
    "       'das ist nicht gut',\n",
    "       'okay vielen dank',]\n"
   ]
  },
  {
   "cell_type": "code",
   "execution_count": null,
   "metadata": {
    "colab": {},
    "colab_type": "code",
    "id": "VQkBsV8a58uf",
    "outputId": "a29646b0-444b-464b-d485-d5f217a65ffc"
   },
   "outputs": [
    {
     "name": "stdout",
     "output_type": "stream",
     "text": [
      "0 [0.58312947 0.35983658 0.05703396] das ist schlecht\n",
      "2 [0.1554293  0.27646726 0.56810343] ich finde das echt toll\n",
      "1 [0.17970131 0.51889807 0.30140063] das ist gut\n",
      "0 [0.71345586 0.26710415 0.01943989] das ist nicht schlecht\n",
      "1 [0.3106428  0.5442085  0.14514858] das ist nicht gut\n",
      "2 [0.19429103 0.34386858 0.46184048] okay vielen dank\n"
     ]
    }
   ],
   "source": [
    "h_ = infer(text)\n",
    "for i,t in enumerate(text):\n",
    "    print('{} {} {}'.format(np.argmax(h_[i]), h_[i], t[:MAX_SEQUENCE_LENGTH], ))"
   ]
  },
  {
   "cell_type": "markdown",
   "metadata": {
    "colab_type": "text",
    "id": "ZXHlQsfS58ui"
   },
   "source": [
    "### Task 4: CNN/LSTM Model\n",
    "\n",
    "Implement a model similar to the one described in [this paper](https://arxiv.org/pdf/1704.06125.pdf), in order to get an even higher accuracy."
   ]
  },
  {
   "cell_type": "markdown",
   "metadata": {
    "colab_type": "raw",
    "collapsed": true,
    "id": "mVGjNaqM58uj"
   },
   "source": [
    "#### kernel_size = 5, filters = 32,36, pool_size = 4 gives 75% test accuracy"
   ]
  },
  {
   "cell_type": "code",
   "execution_count": null,
   "metadata": {
    "colab": {
     "referenced_widgets": [
      "557c39d812f94fda8954818e98cb4cbe",
      "8ae8ea05447240a094d4a3bb581e4c16",
      "397052acc07b4453bfc901f1c52a0b00",
      "61090cfd1a3041d2998852eb15e56978",
      "6405b12dbcd04cd3a00ae041ba04a8ac",
      "803d4168604c440d8351a41337f6f181",
      "0b726f7018b946f8af47dd2b6cf30bf0",
      "d2a8c7d847e9475bbadec254785aafab",
      "f309ea5886764513bdbbbe1b7db1f4d2",
      "6b0ad84332b74fd5bbf363257ecfe708",
      "e374e2f23d8e444a94ad231377d3f1e9",
      "81622acf3d424d378e975a84cb350b9b",
      "33e66d7db7a747cd875ad99fcaaa0b08",
      "71e4d7b07f014d95af4e13e040b83407",
      "00a1daa1e7a947eb8cf8ad2a65458248",
      "c5d2edaa300e46d3b282d6d860332db5"
     ]
    },
    "colab_type": "code",
    "id": "XqkStRYb58uj",
    "outputId": "302ef22d-b676-49ee-abc7-f07eef0c5e16"
   },
   "outputs": [
    {
     "data": {
      "application/vnd.jupyter.widget-view+json": {
       "model_id": "557c39d812f94fda8954818e98cb4cbe",
       "version_major": 2,
       "version_minor": 0
      },
      "text/plain": [
       "HBox(children=(IntProgress(value=0, description='Training', max=15, style=ProgressStyle(description_width='ini…"
      ]
     },
     "metadata": {
      "tags": []
     },
     "output_type": "display_data"
    },
    {
     "data": {
      "application/vnd.jupyter.widget-view+json": {
       "model_id": "8ae8ea05447240a094d4a3bb581e4c16",
       "version_major": 2,
       "version_minor": 0
      },
      "text/plain": [
       "HBox(children=(IntProgress(value=0, description='Epoch 0', max=42371, style=ProgressStyle(description_width='i…"
      ]
     },
     "metadata": {
      "tags": []
     },
     "output_type": "display_data"
    },
    {
     "data": {
      "application/vnd.jupyter.widget-view+json": {
       "model_id": "397052acc07b4453bfc901f1c52a0b00",
       "version_major": 2,
       "version_minor": 0
      },
      "text/plain": [
       "HBox(children=(IntProgress(value=0, description='Epoch 1', max=42371, style=ProgressStyle(description_width='i…"
      ]
     },
     "metadata": {
      "tags": []
     },
     "output_type": "display_data"
    },
    {
     "data": {
      "application/vnd.jupyter.widget-view+json": {
       "model_id": "61090cfd1a3041d2998852eb15e56978",
       "version_major": 2,
       "version_minor": 0
      },
      "text/plain": [
       "HBox(children=(IntProgress(value=0, description='Epoch 2', max=42371, style=ProgressStyle(description_width='i…"
      ]
     },
     "metadata": {
      "tags": []
     },
     "output_type": "display_data"
    },
    {
     "data": {
      "application/vnd.jupyter.widget-view+json": {
       "model_id": "6405b12dbcd04cd3a00ae041ba04a8ac",
       "version_major": 2,
       "version_minor": 0
      },
      "text/plain": [
       "HBox(children=(IntProgress(value=0, description='Epoch 3', max=42371, style=ProgressStyle(description_width='i…"
      ]
     },
     "metadata": {
      "tags": []
     },
     "output_type": "display_data"
    },
    {
     "data": {
      "application/vnd.jupyter.widget-view+json": {
       "model_id": "803d4168604c440d8351a41337f6f181",
       "version_major": 2,
       "version_minor": 0
      },
      "text/plain": [
       "HBox(children=(IntProgress(value=0, description='Epoch 4', max=42371, style=ProgressStyle(description_width='i…"
      ]
     },
     "metadata": {
      "tags": []
     },
     "output_type": "display_data"
    },
    {
     "data": {
      "application/vnd.jupyter.widget-view+json": {
       "model_id": "0b726f7018b946f8af47dd2b6cf30bf0",
       "version_major": 2,
       "version_minor": 0
      },
      "text/plain": [
       "HBox(children=(IntProgress(value=0, description='Epoch 5', max=42371, style=ProgressStyle(description_width='i…"
      ]
     },
     "metadata": {
      "tags": []
     },
     "output_type": "display_data"
    },
    {
     "data": {
      "application/vnd.jupyter.widget-view+json": {
       "model_id": "d2a8c7d847e9475bbadec254785aafab",
       "version_major": 2,
       "version_minor": 0
      },
      "text/plain": [
       "HBox(children=(IntProgress(value=0, description='Epoch 6', max=42371, style=ProgressStyle(description_width='i…"
      ]
     },
     "metadata": {
      "tags": []
     },
     "output_type": "display_data"
    },
    {
     "data": {
      "application/vnd.jupyter.widget-view+json": {
       "model_id": "f309ea5886764513bdbbbe1b7db1f4d2",
       "version_major": 2,
       "version_minor": 0
      },
      "text/plain": [
       "HBox(children=(IntProgress(value=0, description='Epoch 7', max=42371, style=ProgressStyle(description_width='i…"
      ]
     },
     "metadata": {
      "tags": []
     },
     "output_type": "display_data"
    },
    {
     "data": {
      "application/vnd.jupyter.widget-view+json": {
       "model_id": "6b0ad84332b74fd5bbf363257ecfe708",
       "version_major": 2,
       "version_minor": 0
      },
      "text/plain": [
       "HBox(children=(IntProgress(value=0, description='Epoch 8', max=42371, style=ProgressStyle(description_width='i…"
      ]
     },
     "metadata": {
      "tags": []
     },
     "output_type": "display_data"
    },
    {
     "data": {
      "application/vnd.jupyter.widget-view+json": {
       "model_id": "e374e2f23d8e444a94ad231377d3f1e9",
       "version_major": 2,
       "version_minor": 0
      },
      "text/plain": [
       "HBox(children=(IntProgress(value=0, description='Epoch 9', max=42371, style=ProgressStyle(description_width='i…"
      ]
     },
     "metadata": {
      "tags": []
     },
     "output_type": "display_data"
    },
    {
     "data": {
      "application/vnd.jupyter.widget-view+json": {
       "model_id": "81622acf3d424d378e975a84cb350b9b",
       "version_major": 2,
       "version_minor": 0
      },
      "text/plain": [
       "HBox(children=(IntProgress(value=0, description='Epoch 10', max=42371, style=ProgressStyle(description_width='…"
      ]
     },
     "metadata": {
      "tags": []
     },
     "output_type": "display_data"
    },
    {
     "data": {
      "application/vnd.jupyter.widget-view+json": {
       "model_id": "33e66d7db7a747cd875ad99fcaaa0b08",
       "version_major": 2,
       "version_minor": 0
      },
      "text/plain": [
       "HBox(children=(IntProgress(value=0, description='Epoch 11', max=42371, style=ProgressStyle(description_width='…"
      ]
     },
     "metadata": {
      "tags": []
     },
     "output_type": "display_data"
    },
    {
     "data": {
      "application/vnd.jupyter.widget-view+json": {
       "model_id": "71e4d7b07f014d95af4e13e040b83407",
       "version_major": 2,
       "version_minor": 0
      },
      "text/plain": [
       "HBox(children=(IntProgress(value=0, description='Epoch 12', max=42371, style=ProgressStyle(description_width='…"
      ]
     },
     "metadata": {
      "tags": []
     },
     "output_type": "display_data"
    },
    {
     "data": {
      "application/vnd.jupyter.widget-view+json": {
       "model_id": "00a1daa1e7a947eb8cf8ad2a65458248",
       "version_major": 2,
       "version_minor": 0
      },
      "text/plain": [
       "HBox(children=(IntProgress(value=0, description='Epoch 13', max=42371, style=ProgressStyle(description_width='…"
      ]
     },
     "metadata": {
      "tags": []
     },
     "output_type": "display_data"
    },
    {
     "data": {
      "application/vnd.jupyter.widget-view+json": {
       "model_id": "c5d2edaa300e46d3b282d6d860332db5",
       "version_major": 2,
       "version_minor": 0
      },
      "text/plain": [
       "HBox(children=(IntProgress(value=0, description='Epoch 14', max=42371, style=ProgressStyle(description_width='…"
      ]
     },
     "metadata": {
      "tags": []
     },
     "output_type": "display_data"
    },
    {
     "name": "stdout",
     "output_type": "stream",
     "text": [
      "\n"
     ]
    },
    {
     "data": {
      "image/png": "[encoded data removed]",
      "text/plain": [
       "<Figure size 432x288 with 1 Axes>"
      ]
     },
     "metadata": {
      "needs_background": "light",
      "tags": []
     },
     "output_type": "display_data"
    },
    {
     "name": "stdout",
     "output_type": "stream",
     "text": [
      "Accuracy score on 2354 test samples: 0.752336\n"
     ]
    }
   ],
   "source": [
    "# Convolution\n",
    "kernel_size = 5\n",
    "filters = 36\n",
    "pool_size = 4\n",
    "\n",
    "class ModelWithCNNLSTM(keras.models.Model):\n",
    "    \n",
    "    def __init__(self):\n",
    "        input_layer = layers.Input(shape=(MAX_SEQUENCE_LENGTH,), name='Input')\n",
    "        embedding_layer = layers.Embedding(len(vocabulary) + 1, EMBEDDING_DIM, weights=[embedding_matrix], input_length=MAX_SEQUENCE_LENGTH,\n",
    "                            name='Embedding')(input_layer)\n",
    "        \n",
    "        conv1d_layer = layers.Conv1D(filters, kernel_size, padding='valid', activation='relu', strides=1)(embedding_layer) #\n",
    "        maxPool1D_layer = layers.MaxPooling1D(pool_size=pool_size)(conv1d_layer) \n",
    "        #lstm_layer = layers.LSTM(lstm_out)(maxPool1D_layer)\n",
    "        lstm_layer = layers.Bidirectional(layers.LSTM(100))(maxPool1D_layer)\n",
    "        fc_layer = layers.Dense(units=16,name='FullyConnected')(lstm_layer)\n",
    "                \n",
    "        predictions = layers.Dense(3,name='Output', activation='softmax')(fc_layer) #\n",
    "        \n",
    "        super().__init__(inputs=[input_layer], outputs=predictions)\n",
    "        \n",
    "    def compile(self):\n",
    "        return super().compile(optimizer=keras.optimizers.Adam(lr=0.001),loss='mse')\n",
    "        \n",
    "model = ModelWithCNNLSTM()\n",
    "model.compile()\n",
    "\n",
    "#display.display(display.Image(keras.utils.vis_utils.model_to_dot(model, show_shapes=True).create_png()))\n",
    "\n",
    "history = model.fit([data['train']['text']], keras.utils.to_categorical(data['train']['y'],3), epochs=15, verbose=0, callbacks=[TQDMNotebookCallback(leave_inner=True, )],\n",
    "    validation_data=([data['val']['text']], keras.utils.to_categorical(data['val']['y'],3)), batch_size=2048)\n",
    "\n",
    "import matplotlib.pyplot as plt\n",
    "\n",
    "plt.plot(history.epoch,history.history['loss'],history.epoch,history.history['val_loss'])\n",
    "plt.show()\n",
    "_=_\n",
    "\n",
    "\n",
    "h = model.predict([data['test']['text']])\n",
    "predict = np.asarray([np.argmax(i) for i in h])\n",
    "gold = np.asarray(data['test']['y'])\n",
    "resultf1 = accuracy_score(gold, predict)\n",
    "print('Accuracy score on {} test samples: {:.6}'.format(len(predict), resultf1))"
   ]
  },
  {
   "cell_type": "markdown",
   "metadata": {
    "colab_type": "text",
    "id": "KSokM4Cv58un"
   },
   "source": [
    "###  Task 5: Custom Model\n",
    "\n",
    "If you want you can implement further models that deviate from the paper, if you think they may perform better."
   ]
  },
  {
   "cell_type": "markdown",
   "metadata": {
    "colab_type": "raw",
    "collapsed": true,
    "id": "Bd2Ez8dh58uo"
   },
   "source": [
    "##### Dropout layer does not help"
   ]
  },
  {
   "cell_type": "code",
   "execution_count": null,
   "metadata": {
    "colab": {
     "referenced_widgets": [
      "02fd62c8e6144a8e93e378d94b38d10f",
      "d3d5a2245f394802a180e2e00295cbc0",
      "3f46b5aac4114a3889b9528c8471996d",
      "0ad0530b695c43a093909113876d78ea",
      "f6cbb7ae78fd443e8a895aeb2463d1e2",
      "cfbbce03d01341bd87b5fd2fdad0cc11",
      "878e1f7b0fee42f1a65bbdae90c758d2",
      "9bc3bf0c1ec84969b569661cbc17995a",
      "08a9975b7fe240958c6915c898fb85ee",
      "6a6b5d94f2154e99ad9b485263d782cc",
      "e9a737676d7142e582e92ffbd85d2ab5",
      "81f405837e2b48f5ac84868f091a642e",
      "284a887275134835a786a565b2b27e25",
      "5f04e90b7b3641309f0b66e1ac4047c9"
     ]
    },
    "colab_type": "code",
    "id": "32VglNzE58up",
    "outputId": "4cb43e10-4255-4597-8e78-57ef7413d66e"
   },
   "outputs": [
    {
     "data": {
      "application/vnd.jupyter.widget-view+json": {
       "model_id": "02fd62c8e6144a8e93e378d94b38d10f",
       "version_major": 2,
       "version_minor": 0
      },
      "text/plain": [
       "HBox(children=(IntProgress(value=0, description='Training', max=13, style=ProgressStyle(description_width='ini…"
      ]
     },
     "metadata": {
      "tags": []
     },
     "output_type": "display_data"
    },
    {
     "data": {
      "application/vnd.jupyter.widget-view+json": {
       "model_id": "d3d5a2245f394802a180e2e00295cbc0",
       "version_major": 2,
       "version_minor": 0
      },
      "text/plain": [
       "HBox(children=(IntProgress(value=0, description='Epoch 0', max=42371, style=ProgressStyle(description_width='i…"
      ]
     },
     "metadata": {
      "tags": []
     },
     "output_type": "display_data"
    },
    {
     "data": {
      "application/vnd.jupyter.widget-view+json": {
       "model_id": "3f46b5aac4114a3889b9528c8471996d",
       "version_major": 2,
       "version_minor": 0
      },
      "text/plain": [
       "HBox(children=(IntProgress(value=0, description='Epoch 1', max=42371, style=ProgressStyle(description_width='i…"
      ]
     },
     "metadata": {
      "tags": []
     },
     "output_type": "display_data"
    },
    {
     "data": {
      "application/vnd.jupyter.widget-view+json": {
       "model_id": "0ad0530b695c43a093909113876d78ea",
       "version_major": 2,
       "version_minor": 0
      },
      "text/plain": [
       "HBox(children=(IntProgress(value=0, description='Epoch 2', max=42371, style=ProgressStyle(description_width='i…"
      ]
     },
     "metadata": {
      "tags": []
     },
     "output_type": "display_data"
    },
    {
     "data": {
      "application/vnd.jupyter.widget-view+json": {
       "model_id": "f6cbb7ae78fd443e8a895aeb2463d1e2",
       "version_major": 2,
       "version_minor": 0
      },
      "text/plain": [
       "HBox(children=(IntProgress(value=0, description='Epoch 3', max=42371, style=ProgressStyle(description_width='i…"
      ]
     },
     "metadata": {
      "tags": []
     },
     "output_type": "display_data"
    },
    {
     "data": {
      "application/vnd.jupyter.widget-view+json": {
       "model_id": "cfbbce03d01341bd87b5fd2fdad0cc11",
       "version_major": 2,
       "version_minor": 0
      },
      "text/plain": [
       "HBox(children=(IntProgress(value=0, description='Epoch 4', max=42371, style=ProgressStyle(description_width='i…"
      ]
     },
     "metadata": {
      "tags": []
     },
     "output_type": "display_data"
    },
    {
     "data": {
      "application/vnd.jupyter.widget-view+json": {
       "model_id": "878e1f7b0fee42f1a65bbdae90c758d2",
       "version_major": 2,
       "version_minor": 0
      },
      "text/plain": [
       "HBox(children=(IntProgress(value=0, description='Epoch 5', max=42371, style=ProgressStyle(description_width='i…"
      ]
     },
     "metadata": {
      "tags": []
     },
     "output_type": "display_data"
    },
    {
     "data": {
      "application/vnd.jupyter.widget-view+json": {
       "model_id": "9bc3bf0c1ec84969b569661cbc17995a",
       "version_major": 2,
       "version_minor": 0
      },
      "text/plain": [
       "HBox(children=(IntProgress(value=0, description='Epoch 6', max=42371, style=ProgressStyle(description_width='i…"
      ]
     },
     "metadata": {
      "tags": []
     },
     "output_type": "display_data"
    },
    {
     "data": {
      "application/vnd.jupyter.widget-view+json": {
       "model_id": "08a9975b7fe240958c6915c898fb85ee",
       "version_major": 2,
       "version_minor": 0
      },
      "text/plain": [
       "HBox(children=(IntProgress(value=0, description='Epoch 7', max=42371, style=ProgressStyle(description_width='i…"
      ]
     },
     "metadata": {
      "tags": []
     },
     "output_type": "display_data"
    },
    {
     "data": {
      "application/vnd.jupyter.widget-view+json": {
       "model_id": "6a6b5d94f2154e99ad9b485263d782cc",
       "version_major": 2,
       "version_minor": 0
      },
      "text/plain": [
       "HBox(children=(IntProgress(value=0, description='Epoch 8', max=42371, style=ProgressStyle(description_width='i…"
      ]
     },
     "metadata": {
      "tags": []
     },
     "output_type": "display_data"
    },
    {
     "data": {
      "application/vnd.jupyter.widget-view+json": {
       "model_id": "e9a737676d7142e582e92ffbd85d2ab5",
       "version_major": 2,
       "version_minor": 0
      },
      "text/plain": [
       "HBox(children=(IntProgress(value=0, description='Epoch 9', max=42371, style=ProgressStyle(description_width='i…"
      ]
     },
     "metadata": {
      "tags": []
     },
     "output_type": "display_data"
    },
    {
     "data": {
      "application/vnd.jupyter.widget-view+json": {
       "model_id": "81f405837e2b48f5ac84868f091a642e",
       "version_major": 2,
       "version_minor": 0
      },
      "text/plain": [
       "HBox(children=(IntProgress(value=0, description='Epoch 10', max=42371, style=ProgressStyle(description_width='…"
      ]
     },
     "metadata": {
      "tags": []
     },
     "output_type": "display_data"
    },
    {
     "data": {
      "application/vnd.jupyter.widget-view+json": {
       "model_id": "284a887275134835a786a565b2b27e25",
       "version_major": 2,
       "version_minor": 0
      },
      "text/plain": [
       "HBox(children=(IntProgress(value=0, description='Epoch 11', max=42371, style=ProgressStyle(description_width='…"
      ]
     },
     "metadata": {
      "tags": []
     },
     "output_type": "display_data"
    },
    {
     "data": {
      "application/vnd.jupyter.widget-view+json": {
       "model_id": "5f04e90b7b3641309f0b66e1ac4047c9",
       "version_major": 2,
       "version_minor": 0
      },
      "text/plain": [
       "HBox(children=(IntProgress(value=0, description='Epoch 12', max=42371, style=ProgressStyle(description_width='…"
      ]
     },
     "metadata": {
      "tags": []
     },
     "output_type": "display_data"
    },
    {
     "name": "stdout",
     "output_type": "stream",
     "text": [
      "\n"
     ]
    },
    {
     "data": {
      "image/png": "[encoded data removed]",
      "text/plain": [
       "<Figure size 432x288 with 1 Axes>"
      ]
     },
     "metadata": {
      "needs_background": "light",
      "tags": []
     },
     "output_type": "display_data"
    },
    {
     "name": "stdout",
     "output_type": "stream",
     "text": [
      "Accuracy score on 2354 test samples: 0.751487\n"
     ]
    }
   ],
   "source": [
    "# Convolution\n",
    "kernel_size = 5\n",
    "filters = 36\n",
    "pool_size = 4\n",
    "\n",
    "class ModelWithCNNLSTM(keras.models.Model):\n",
    "    \n",
    "    def __init__(self):\n",
    "        input_layer = layers.Input(shape=(MAX_SEQUENCE_LENGTH,), name='Input')\n",
    "        \n",
    "        embedding_layer = layers.Embedding(len(vocabulary) + 1, EMBEDDING_DIM, weights=[embedding_matrix], input_length=MAX_SEQUENCE_LENGTH,\n",
    "                            name='Embedding')(input_layer)\n",
    "        embedding_layer = layers.Dropout(0.2)(embedding_layer)\n",
    "        \n",
    "        conv1d_layer = layers.Conv1D(filters, kernel_size, padding='valid', activation='relu', strides=1)(embedding_layer) #\n",
    "        maxPool1D_layer = layers.MaxPooling1D(pool_size=pool_size)(conv1d_layer) \n",
    "        \n",
    "        #lstm_layer = layers.LSTM(lstm_out)(maxPool1D_layer)\n",
    "        lstm_layer = layers.Bidirectional(layers.LSTM(100))(maxPool1D_layer)\n",
    "        #lstm_layer = layers.Dropout(0.2)(lstm_layer)\n",
    "        \n",
    "        fc_layer = layers.Dense(units=16,name='FullyConnected')(lstm_layer)\n",
    "                \n",
    "        predictions = layers.Dense(3,name='Output', activation='softmax')(fc_layer) #\n",
    "        \n",
    "        super().__init__(inputs=[input_layer], outputs=predictions)\n",
    "        \n",
    "    def compile(self):\n",
    "        return super().compile(optimizer=keras.optimizers.Adam(lr=0.001),loss='mse')\n",
    "        \n",
    "model = ModelWithCNNLSTM()\n",
    "model.compile()\n",
    "\n",
    "#display.display(display.Image(keras.utils.vis_utils.model_to_dot(model, show_shapes=True).create_png()))\n",
    "\n",
    "history = model.fit([data['train']['text']], keras.utils.to_categorical(data['train']['y'],3), epochs=13, verbose=0, callbacks=[TQDMNotebookCallback(leave_inner=True, )],\n",
    "    validation_data=([data['val']['text']], keras.utils.to_categorical(data['val']['y'],3)), batch_size=2048)\n",
    "\n",
    "import matplotlib.pyplot as plt\n",
    "\n",
    "plt.plot(history.epoch,history.history['loss'],history.epoch,history.history['val_loss'])\n",
    "plt.show()\n",
    "_=_\n",
    "\n",
    "\n",
    "h = model.predict([data['test']['text']])\n",
    "predict = np.asarray([np.argmax(i) for i in h])\n",
    "gold = np.asarray(data['test']['y'])\n",
    "resultf1 = accuracy_score(gold, predict)\n",
    "print('Accuracy score on {} test samples: {:.6}'.format(len(predict), resultf1))"
   ]
  },
  {
   "cell_type": "markdown",
   "metadata": {
    "colab": {},
    "colab_type": "code",
    "id": "HdoBsdnx58uw"
   },
   "source": [
    "##### Only Conv1d+pooling layer gives similar (75.5%) test accuracy "
   ]
  },
  {
   "cell_type": "code",
   "execution_count": null,
   "metadata": {
    "colab": {
     "referenced_widgets": [
      "c55c4357b6ff4a8eb4c1774b271fece4",
      "9bb2833ae155439b95a711e12b5c93aa",
      "0c52500e085842d1906d05d328107338",
      "88c37ae9f76744918244d2c862ba7520",
      "682e6e56db944db6859dfd5ed675ef9d",
      "25a7f65a997d4e568376d0920a9e8b60",
      "c5ed3ed925fa4395b844c5ef50a52190",
      "7ac29586026a40f480fe07d71a69694a",
      "e30d745be3cd465993c29d04017dfa08",
      "03d40546a1b7442285261ec86a662f49",
      "53b9c6c762cd4de39eeb27d1c0bed808",
      "0495df9b71f744feb1cf9464302143fd",
      "4b87d187d3064a229616d85defc7b4ad",
      "9cff61b873e94747ab9c27a6183c0bb5"
     ]
    },
    "colab_type": "code",
    "id": "eXh8QCOK58u0",
    "outputId": "bb39abc0-1c49-43a7-ad8a-bef7fa26b53c"
   },
   "outputs": [
    {
     "data": {
      "application/vnd.jupyter.widget-view+json": {
       "model_id": "c55c4357b6ff4a8eb4c1774b271fece4",
       "version_major": 2,
       "version_minor": 0
      },
      "text/plain": [
       "HBox(children=(IntProgress(value=0, description='Training', max=13, style=ProgressStyle(description_width='ini…"
      ]
     },
     "metadata": {
      "tags": []
     },
     "output_type": "display_data"
    },
    {
     "data": {
      "application/vnd.jupyter.widget-view+json": {
       "model_id": "9bb2833ae155439b95a711e12b5c93aa",
       "version_major": 2,
       "version_minor": 0
      },
      "text/plain": [
       "HBox(children=(IntProgress(value=0, description='Epoch 0', max=42371, style=ProgressStyle(description_width='i…"
      ]
     },
     "metadata": {
      "tags": []
     },
     "output_type": "display_data"
    },
    {
     "data": {
      "application/vnd.jupyter.widget-view+json": {
       "model_id": "0c52500e085842d1906d05d328107338",
       "version_major": 2,
       "version_minor": 0
      },
      "text/plain": [
       "HBox(children=(IntProgress(value=0, description='Epoch 1', max=42371, style=ProgressStyle(description_width='i…"
      ]
     },
     "metadata": {
      "tags": []
     },
     "output_type": "display_data"
    },
    {
     "data": {
      "application/vnd.jupyter.widget-view+json": {
       "model_id": "88c37ae9f76744918244d2c862ba7520",
       "version_major": 2,
       "version_minor": 0
      },
      "text/plain": [
       "HBox(children=(IntProgress(value=0, description='Epoch 2', max=42371, style=ProgressStyle(description_width='i…"
      ]
     },
     "metadata": {
      "tags": []
     },
     "output_type": "display_data"
    },
    {
     "data": {
      "application/vnd.jupyter.widget-view+json": {
       "model_id": "682e6e56db944db6859dfd5ed675ef9d",
       "version_major": 2,
       "version_minor": 0
      },
      "text/plain": [
       "HBox(children=(IntProgress(value=0, description='Epoch 3', max=42371, style=ProgressStyle(description_width='i…"
      ]
     },
     "metadata": {
      "tags": []
     },
     "output_type": "display_data"
    },
    {
     "data": {
      "application/vnd.jupyter.widget-view+json": {
       "model_id": "25a7f65a997d4e568376d0920a9e8b60",
       "version_major": 2,
       "version_minor": 0
      },
      "text/plain": [
       "HBox(children=(IntProgress(value=0, description='Epoch 4', max=42371, style=ProgressStyle(description_width='i…"
      ]
     },
     "metadata": {
      "tags": []
     },
     "output_type": "display_data"
    },
    {
     "data": {
      "application/vnd.jupyter.widget-view+json": {
       "model_id": "c5ed3ed925fa4395b844c5ef50a52190",
       "version_major": 2,
       "version_minor": 0
      },
      "text/plain": [
       "HBox(children=(IntProgress(value=0, description='Epoch 5', max=42371, style=ProgressStyle(description_width='i…"
      ]
     },
     "metadata": {
      "tags": []
     },
     "output_type": "display_data"
    },
    {
     "data": {
      "application/vnd.jupyter.widget-view+json": {
       "model_id": "7ac29586026a40f480fe07d71a69694a",
       "version_major": 2,
       "version_minor": 0
      },
      "text/plain": [
       "HBox(children=(IntProgress(value=0, description='Epoch 6', max=42371, style=ProgressStyle(description_width='i…"
      ]
     },
     "metadata": {
      "tags": []
     },
     "output_type": "display_data"
    },
    {
     "data": {
      "application/vnd.jupyter.widget-view+json": {
       "model_id": "e30d745be3cd465993c29d04017dfa08",
       "version_major": 2,
       "version_minor": 0
      },
      "text/plain": [
       "HBox(children=(IntProgress(value=0, description='Epoch 7', max=42371, style=ProgressStyle(description_width='i…"
      ]
     },
     "metadata": {
      "tags": []
     },
     "output_type": "display_data"
    },
    {
     "data": {
      "application/vnd.jupyter.widget-view+json": {
       "model_id": "03d40546a1b7442285261ec86a662f49",
       "version_major": 2,
       "version_minor": 0
      },
      "text/plain": [
       "HBox(children=(IntProgress(value=0, description='Epoch 8', max=42371, style=ProgressStyle(description_width='i…"
      ]
     },
     "metadata": {
      "tags": []
     },
     "output_type": "display_data"
    },
    {
     "data": {
      "application/vnd.jupyter.widget-view+json": {
       "model_id": "53b9c6c762cd4de39eeb27d1c0bed808",
       "version_major": 2,
       "version_minor": 0
      },
      "text/plain": [
       "HBox(children=(IntProgress(value=0, description='Epoch 9', max=42371, style=ProgressStyle(description_width='i…"
      ]
     },
     "metadata": {
      "tags": []
     },
     "output_type": "display_data"
    },
    {
     "data": {
      "application/vnd.jupyter.widget-view+json": {
       "model_id": "0495df9b71f744feb1cf9464302143fd",
       "version_major": 2,
       "version_minor": 0
      },
      "text/plain": [
       "HBox(children=(IntProgress(value=0, description='Epoch 10', max=42371, style=ProgressStyle(description_width='…"
      ]
     },
     "metadata": {
      "tags": []
     },
     "output_type": "display_data"
    },
    {
     "data": {
      "application/vnd.jupyter.widget-view+json": {
       "model_id": "4b87d187d3064a229616d85defc7b4ad",
       "version_major": 2,
       "version_minor": 0
      },
      "text/plain": [
       "HBox(children=(IntProgress(value=0, description='Epoch 11', max=42371, style=ProgressStyle(description_width='…"
      ]
     },
     "metadata": {
      "tags": []
     },
     "output_type": "display_data"
    },
    {
     "data": {
      "application/vnd.jupyter.widget-view+json": {
       "model_id": "9cff61b873e94747ab9c27a6183c0bb5",
       "version_major": 2,
       "version_minor": 0
      },
      "text/plain": [
       "HBox(children=(IntProgress(value=0, description='Epoch 12', max=42371, style=ProgressStyle(description_width='…"
      ]
     },
     "metadata": {
      "tags": []
     },
     "output_type": "display_data"
    },
    {
     "name": "stdout",
     "output_type": "stream",
     "text": [
      "\n"
     ]
    },
    {
     "data": {
      "image/png": "[encoded data removed]",
      "text/plain": [
       "<Figure size 432x288 with 1 Axes>"
      ]
     },
     "metadata": {
      "needs_background": "light",
      "tags": []
     },
     "output_type": "display_data"
    },
    {
     "name": "stdout",
     "output_type": "stream",
     "text": [
      "Accuracy score on 2354 test samples: 0.754885\n"
     ]
    }
   ],
   "source": [
    "# Convolution\n",
    "kernel_size = 5\n",
    "filters = 36\n",
    "pool_size = 4\n",
    "\n",
    "class ModelWithCNNLSTM(keras.models.Model):\n",
    "    \n",
    "    def __init__(self):\n",
    "        input_layer = layers.Input(shape=(MAX_SEQUENCE_LENGTH,), name='Input')\n",
    "        \n",
    "        embedding_layer = layers.Embedding(len(vocabulary) + 1, EMBEDDING_DIM, weights=[embedding_matrix], input_length=MAX_SEQUENCE_LENGTH,\n",
    "                            name='Embedding')(input_layer)\n",
    "               \n",
    "        conv1d_layer = layers.Conv1D(filters, kernel_size, padding='valid', activation='relu', strides=1)(embedding_layer) #\n",
    "        maxPool1D_layer = layers.MaxPooling1D(pool_size=pool_size)(conv1d_layer) \n",
    "        \n",
    "        fc_layer = layers.Dense(units=16,name='FullyConnected')(maxPool1D_layer)\n",
    "        fc_layer  = layers.Flatten(name=\"Flatten\")(fc_layer)\n",
    "                \n",
    "        predictions = layers.Dense(3,name='Output', activation='softmax')(fc_layer) #\n",
    "        \n",
    "        super().__init__(inputs=[input_layer], outputs=predictions)\n",
    "        \n",
    "    def compile(self):\n",
    "        return super().compile(optimizer=keras.optimizers.Adam(lr=0.001),loss='mse')\n",
    "        \n",
    "model = ModelWithCNNLSTM()\n",
    "model.compile()\n",
    "\n",
    "#display.display(display.Image(keras.utils.vis_utils.model_to_dot(model, show_shapes=True).create_png()))\n",
    "\n",
    "history = model.fit([data['train']['text']], keras.utils.to_categorical(data['train']['y'],3), epochs=10, verbose=0, callbacks=[TQDMNotebookCallback(leave_inner=True, )],\n",
    "    validation_data=([data['val']['text']], keras.utils.to_categorical(data['val']['y'],3)), batch_size=2048)\n",
    "\n",
    "import matplotlib.pyplot as plt\n",
    "\n",
    "plt.plot(history.epoch,history.history['loss'],history.epoch,history.history['val_loss'])\n",
    "plt.show()\n",
    "_=_\n",
    "\n",
    "\n",
    "h = model.predict([data['test']['text']])\n",
    "predict = np.asarray([np.argmax(i) for i in h])\n",
    "gold = np.asarray(data['test']['y'])\n",
    "resultf1 = accuracy_score(gold, predict)\n",
    "print('Accuracy score on {} test samples: {:.6}'.format(len(predict), resultf1))"
   ]
  },
  {
   "cell_type": "code",
   "execution_count": null,
   "metadata": {
    "colab": {},
    "colab_type": "code",
    "id": "iUe4ktKR58u2"
   },
   "outputs": [],
   "source": []
  }
 ],
 "metadata": {
  "colab": {
   "name": "Sentiment-Recruiting.ipynb",
   "provenance": []
  },
  "kernelspec": {
   "display_name": "Python 3",
   "language": "python",
   "name": "python3"
  },
  "language_info": {
   "codemirror_mode": {
    "name": "ipython",
    "version": 3
   },
   "file_extension": ".py",
   "mimetype": "text/x-python",
   "name": "python",
   "nbconvert_exporter": "python",
   "pygments_lexer": "ipython3",
   "version": "3.7.4"
  },
  "toc": {
   "nav_menu": {},
   "number_sections": true,
   "sideBar": true,
   "skip_h1_title": false,
   "toc_cell": false,
   "toc_position": {
    "height": "997px",
    "left": "0px",
    "right": "1871.34px",
    "top": "107px",
    "width": "212px"
   },
   "toc_section_display": "block",
   "toc_window_display": true
  },
  "varInspector": {
   "cols": {
    "lenName": 16,
    "lenType": 16,
    "lenVar": 40
   },
   "kernels_config": {
    "python": {
     "delete_cmd_postfix": "",
     "delete_cmd_prefix": "del ",
     "library": "var_list.py",
     "varRefreshCmd": "print(var_dic_list())"
    },
    "r": {
     "delete_cmd_postfix": ") ",
     "delete_cmd_prefix": "rm(",
     "library": "var_list.r",
     "varRefreshCmd": "cat(var_dic_list()) "
    }
   },
   "position": {
    "height": "663px",
    "left": "1713.33px",
    "right": "20px",
    "top": "120px",
    "width": "350px"
   },
   "types_to_exclude": [
    "module",
    "function",
    "builtin_function_or_method",
    "instance",
    "_Feature"
   ],
   "window_display": true
  }
 },
 "nbformat": 4,
 "nbformat_minor": 1
}
