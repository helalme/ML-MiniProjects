{
 "cells": [
  {
   "cell_type": "markdown",
   "metadata": {},
   "source": [
    "In this notebook, an artificial dataset has been created with both upward trend and seasonality. To make the dataset more realistic, some noises have also been added. Then we'll try to forecast it. "
   ]
  },
  {
   "cell_type": "code",
   "execution_count": 2,
   "metadata": {
    "colab": {
     "base_uri": "https://localhost:8080/",
     "height": 698
    },
    "colab_type": "code",
    "executionInfo": {
     "elapsed": 21458,
     "status": "ok",
     "timestamp": 1562077838861,
     "user": {
      "displayName": "Laurence Moroney",
      "photoUrl": "https://lh4.googleusercontent.com/-wUzpekukCVw/AAAAAAAAAAI/AAAAAAAAAHw/pQPstOOJqqE/s64/photo.jpg",
      "userId": "17858265307580721507"
     },
     "user_tz": 420
    },
    "id": "D1J15Vh_1Jih",
    "outputId": "711774e2-ee28-4e52-d308-bbed7822e72a"
   },
   "outputs": [],
   "source": [
    "# Not necessary if the right version is installed\n",
    "#!pip install tf-nightly-2.0-preview\n"
   ]
  },
  {
   "cell_type": "code",
   "execution_count": 3,
   "metadata": {
    "colab": {
     "base_uri": "https://localhost:8080/",
     "height": 34
    },
    "colab_type": "code",
    "executionInfo": {
     "elapsed": 1680,
     "status": "ok",
     "timestamp": 1562077847558,
     "user": {
      "displayName": "Laurence Moroney",
      "photoUrl": "https://lh4.googleusercontent.com/-wUzpekukCVw/AAAAAAAAAAI/AAAAAAAAAHw/pQPstOOJqqE/s64/photo.jpg",
      "userId": "17858265307580721507"
     },
     "user_tz": 420
    },
    "id": "BOjujz601HcS",
    "outputId": "a84d8da6-31f6-4914-8195-6373dc9c84ff"
   },
   "outputs": [
    {
     "name": "stdout",
     "output_type": "stream",
     "text": [
      "2.1.0\n"
     ]
    }
   ],
   "source": [
    "import tensorflow as tf\n",
    "import numpy as np\n",
    "import matplotlib.pyplot as plt\n",
    "print(tf.__version__)"
   ]
  },
  {
   "cell_type": "markdown",
   "metadata": {},
   "source": [
    "Time series dataset generation for 4 years, addin noises, and splitting into training and validation set (1000 and 460 days.)"
   ]
  },
  {
   "cell_type": "code",
   "execution_count": 4,
   "metadata": {
    "colab": {},
    "colab_type": "code",
    "id": "Zswl7jRtGzkk"
   },
   "outputs": [],
   "source": [
    "def plot_series(time, series, format=\"-\", start=0, end=None):\n",
    "    plt.plot(time[start:end], series[start:end], format)\n",
    "    plt.xlabel(\"Time\")\n",
    "    plt.ylabel(\"Value\")\n",
    "    plt.grid(True)\n",
    "\n",
    "def trend(time, slope=0):\n",
    "    return slope * time\n",
    "\n",
    "def seasonal_pattern(season_time):\n",
    "    \"\"\"Just an arbitrary pattern, you can change it if you wish\"\"\"\n",
    "    return np.where(season_time < 0.4,\n",
    "                    np.cos(season_time * 2 * np.pi),\n",
    "                    1 / np.exp(3 * season_time))\n",
    "\n",
    "def seasonality(time, period, amplitude=1, phase=0):\n",
    "    \"\"\"Repeats the same pattern at each period\"\"\"\n",
    "    season_time = ((time + phase) % period) / period\n",
    "    return amplitude * seasonal_pattern(season_time)\n",
    "\n",
    "def noise(time, noise_level=1, seed=None):\n",
    "    rnd = np.random.RandomState(seed)\n",
    "    return rnd.randn(len(time)) * noise_level\n",
    "\n",
    "time = np.arange(4 * 365 + 1, dtype=\"float32\")\n",
    "baseline = 10\n",
    "series = trend(time, 0.1)  \n",
    "baseline = 10\n",
    "amplitude = 40\n",
    "slope = 0.05\n",
    "noise_level = 5\n",
    "\n",
    "# Create the series\n",
    "series = baseline + trend(time, slope) + seasonality(time, period=365, amplitude=amplitude)\n",
    "# Update with noise\n",
    "series += noise(time, noise_level, seed=42)\n",
    "\n",
    "split_time = 1000\n",
    "time_train = time[:split_time]\n",
    "x_train = series[:split_time]\n",
    "time_valid = time[split_time:]\n",
    "x_valid = series[split_time:]\n",
    "\n",
    "window_size = 20\n",
    "batch_size = 32\n",
    "shuffle_buffer_size = 1000"
   ]
  },
  {
   "cell_type": "markdown",
   "metadata": {},
   "source": [
    "Function for windowing (rearranging) the dataset in order to make and time series. "
   ]
  },
  {
   "cell_type": "code",
   "execution_count": 5,
   "metadata": {
    "colab": {},
    "colab_type": "code",
    "id": "4sTTIOCbyShY"
   },
   "outputs": [],
   "source": [
    "def windowed_dataset(series, window_size, batch_size, shuffle_buffer):\n",
    "    series = tf.expand_dims(series, axis=-1)\n",
    "    ds = tf.data.Dataset.from_tensor_slices(series)\n",
    "    ds = ds.window(window_size + 1, shift=1, drop_remainder=True)\n",
    "    ds = ds.flat_map(lambda w: w.batch(window_size + 1))\n",
    "    ds = ds.shuffle(shuffle_buffer)\n",
    "    ds = ds.map(lambda w: (w[:-1], w[1:]))\n",
    "    return ds.batch(batch_size).prefetch(1)"
   ]
  },
  {
   "cell_type": "markdown",
   "metadata": {},
   "source": [
    "Function for model forecasting"
   ]
  },
  {
   "cell_type": "code",
   "execution_count": 6,
   "metadata": {
    "colab": {},
    "colab_type": "code",
    "id": "_eaAX9g_jS5W"
   },
   "outputs": [],
   "source": [
    "def model_forecast(model, series, window_size):\n",
    "    ds = tf.data.Dataset.from_tensor_slices(series)\n",
    "    ds = ds.window(window_size, shift=1, drop_remainder=True)\n",
    "    ds = ds.flat_map(lambda w: w.batch(window_size))\n",
    "    ds = ds.batch(32).prefetch(1)\n",
    "    forecast = model.predict(ds)\n",
    "    return forecast"
   ]
  },
  {
   "cell_type": "markdown",
   "metadata": {},
   "source": [
    "preparing the training set with a reasonable window size and batch size"
   ]
  },
  {
   "cell_type": "code",
   "execution_count": 10,
   "metadata": {},
   "outputs": [],
   "source": [
    "tf.keras.backend.clear_session()\n",
    "tf.random.set_seed(51)\n",
    "np.random.seed(51)\n",
    "\n",
    "window_size = 30\n",
    "train_set = windowed_dataset(x_train, window_size, batch_size=128, shuffle_buffer=shuffle_buffer_size)"
   ]
  },
  {
   "cell_type": "markdown",
   "metadata": {},
   "source": [
    "Model defination with convolutional layer, bidirectional LSTM layers and dense layer"
   ]
  },
  {
   "cell_type": "code",
   "execution_count": 11,
   "metadata": {
    "colab": {
     "base_uri": "https://localhost:8080/",
     "height": 820
    },
    "colab_type": "code",
    "executionInfo": {
     "elapsed": 15815,
     "status": "error",
     "timestamp": 1562077870276,
     "user": {
      "displayName": "Laurence Moroney",
      "photoUrl": "https://lh4.googleusercontent.com/-wUzpekukCVw/AAAAAAAAAAI/AAAAAAAAAHw/pQPstOOJqqE/s64/photo.jpg",
      "userId": "17858265307580721507"
     },
     "user_tz": 420
    },
    "id": "Yqc2GTsps0qf",
    "outputId": "6a57b2fa-e0df-4086-a525-fa08c3e052f3"
   },
   "outputs": [],
   "source": [
    "\n",
    "model = tf.keras.models.Sequential([\n",
    "  tf.keras.layers.Conv1D(filters=32, kernel_size=5,\n",
    "                      strides=1, padding=\"causal\",\n",
    "                      activation=\"relu\",\n",
    "                      input_shape=[None, 1]),\n",
    "  tf.keras.layers.Bidirectional(tf.keras.layers.LSTM(32, return_sequences=True)),\n",
    "  tf.keras.layers.Bidirectional(tf.keras.layers.LSTM(32, return_sequences=True)),\n",
    "  tf.keras.layers.Dense(1),\n",
    "  tf.keras.layers.Lambda(lambda x: x * 200)\n",
    "])\n"
   ]
  },
  {
   "cell_type": "markdown",
   "metadata": {},
   "source": [
    "Running the model with proper set of hyperparameters, Finding the proper learning rate..."
   ]
  },
  {
   "cell_type": "code",
   "execution_count": 12,
   "metadata": {},
   "outputs": [
    {
     "name": "stdout",
     "output_type": "stream",
     "text": [
      "Epoch 1/100\n",
      "8/8 [==============================] - 11s 1s/step - loss: 73.2700 - mae: 73.6896\n",
      "Epoch 2/100\n",
      "8/8 [==============================] - 2s 200ms/step - loss: 72.3807 - mae: 72.9788\n",
      "Epoch 3/100\n",
      "8/8 [==============================] - 1s 156ms/step - loss: 71.2596 - mae: 71.8377\n",
      "Epoch 4/100\n",
      "8/8 [==============================] - 1s 146ms/step - loss: 69.8434 - mae: 70.4184\n",
      "Epoch 5/100\n",
      "8/8 [==============================] - 1s 187ms/step - loss: 68.2533 - mae: 68.7583\n",
      "Epoch 6/100\n",
      "8/8 [==============================] - 2s 196ms/step - loss: 66.3086 - mae: 66.8782\n",
      "Epoch 7/100\n",
      "8/8 [==============================] - 1s 167ms/step - loss: 64.2200 - mae: 64.7353\n",
      "Epoch 8/100\n",
      "8/8 [==============================] - 1s 151ms/step - loss: 61.7602 - mae: 62.3713\n",
      "Epoch 9/100\n",
      "8/8 [==============================] - 1s 152ms/step - loss: 59.1640 - mae: 59.7458\n",
      "Epoch 10/100\n",
      "8/8 [==============================] - 1s 168ms/step - loss: 56.3343 - mae: 56.8317\n",
      "Epoch 11/100\n",
      "8/8 [==============================] - 1s 150ms/step - loss: 52.9315 - mae: 53.5844\n",
      "Epoch 12/100\n",
      "8/8 [==============================] - 1s 148ms/step - loss: 49.3937 - mae: 49.9128\n",
      "Epoch 13/100\n",
      "8/8 [==============================] - 1s 154ms/step - loss: 44.9713 - mae: 45.5964\n",
      "Epoch 14/100\n",
      "8/8 [==============================] - 1s 144ms/step - loss: 41.4278 - mae: 41.9902\n",
      "Epoch 15/100\n",
      "8/8 [==============================] - 1s 132ms/step - loss: 40.6574 - mae: 41.1555\n",
      "Epoch 16/100\n",
      "8/8 [==============================] - 1s 158ms/step - loss: 39.5895 - mae: 40.0524\n",
      "Epoch 17/100\n",
      "8/8 [==============================] - 1s 144ms/step - loss: 38.1703 - mae: 38.6531\n",
      "Epoch 18/100\n",
      "8/8 [==============================] - 1s 169ms/step - loss: 36.6050 - mae: 37.1057\n",
      "Epoch 19/100\n",
      "8/8 [==============================] - 1s 162ms/step - loss: 35.0335 - mae: 35.5333\n",
      "Epoch 20/100\n",
      "8/8 [==============================] - 1s 148ms/step - loss: 33.5584 - mae: 34.0769\n",
      "Epoch 21/100\n",
      "8/8 [==============================] - 1s 145ms/step - loss: 32.2884 - mae: 32.7742\n",
      "Epoch 22/100\n",
      "8/8 [==============================] - 1s 145ms/step - loss: 31.1205 - mae: 31.5719\n",
      "Epoch 23/100\n",
      "8/8 [==============================] - 1s 150ms/step - loss: 29.9828 - mae: 30.4469\n",
      "Epoch 24/100\n",
      "8/8 [==============================] - 1s 155ms/step - loss: 28.8009 - mae: 29.3412\n",
      "Epoch 25/100\n",
      "8/8 [==============================] - 1s 143ms/step - loss: 27.6738 - mae: 28.2367\n",
      "Epoch 26/100\n",
      "8/8 [==============================] - 1s 144ms/step - loss: 26.5906 - mae: 27.1097\n",
      "Epoch 27/100\n",
      "8/8 [==============================] - 1s 146ms/step - loss: 25.4621 - mae: 25.9551\n",
      "Epoch 28/100\n",
      "8/8 [==============================] - 1s 142ms/step - loss: 24.2619 - mae: 24.7682\n",
      "Epoch 29/100\n",
      "8/8 [==============================] - 1s 155ms/step - loss: 23.0432 - mae: 23.5445\n",
      "Epoch 30/100\n",
      "8/8 [==============================] - 1s 153ms/step - loss: 21.8588 - mae: 22.2905\n",
      "Epoch 31/100\n",
      "8/8 [==============================] - 1s 144ms/step - loss: 20.4478 - mae: 21.0224\n",
      "Epoch 32/100\n",
      "8/8 [==============================] - 1s 155ms/step - loss: 19.1635 - mae: 19.7113\n",
      "Epoch 33/100\n",
      "8/8 [==============================] - 1s 155ms/step - loss: 17.9997 - mae: 18.4525\n",
      "Epoch 34/100\n",
      "8/8 [==============================] - 1s 142ms/step - loss: 16.9262 - mae: 17.4434\n",
      "Epoch 35/100\n",
      "8/8 [==============================] - 1s 141ms/step - loss: 16.2506 - mae: 16.7384\n",
      "Epoch 36/100\n",
      "8/8 [==============================] - 1s 159ms/step - loss: 15.6018 - mae: 16.1243\n",
      "Epoch 37/100\n",
      "8/8 [==============================] - 1s 144ms/step - loss: 15.0485 - mae: 15.5439\n",
      "Epoch 38/100\n",
      "8/8 [==============================] - 1s 137ms/step - loss: 14.5458 - mae: 15.0026\n",
      "Epoch 39/100\n",
      "8/8 [==============================] - 1s 151ms/step - loss: 13.9319 - mae: 14.4808\n",
      "Epoch 40/100\n",
      "8/8 [==============================] - 1s 143ms/step - loss: 13.4237 - mae: 13.9302\n",
      "Epoch 41/100\n",
      "8/8 [==============================] - 1s 145ms/step - loss: 12.8598 - mae: 13.3710\n",
      "Epoch 42/100\n",
      "8/8 [==============================] - 1s 151ms/step - loss: 12.2550 - mae: 12.7804\n",
      "Epoch 43/100\n",
      "8/8 [==============================] - 1s 148ms/step - loss: 11.6214 - mae: 12.1553\n",
      "Epoch 44/100\n",
      "8/8 [==============================] - 1s 153ms/step - loss: 10.9964 - mae: 11.5074\n",
      "Epoch 45/100\n",
      "8/8 [==============================] - 1s 143ms/step - loss: 10.3224 - mae: 10.8390\n",
      "Epoch 46/100\n",
      "8/8 [==============================] - 1s 148ms/step - loss: 9.6957 - mae: 10.1738\n",
      "Epoch 47/100\n",
      "8/8 [==============================] - 1s 153ms/step - loss: 9.0916 - mae: 9.5766\n",
      "Epoch 48/100\n",
      "8/8 [==============================] - 1s 146ms/step - loss: 8.5515 - mae: 9.0605\n",
      "Epoch 49/100\n",
      "8/8 [==============================] - 1s 160ms/step - loss: 8.0935 - mae: 8.6017\n",
      "Epoch 50/100\n",
      "8/8 [==============================] - 1s 154ms/step - loss: 7.6970 - mae: 8.1924\n",
      "Epoch 51/100\n",
      "8/8 [==============================] - 1s 153ms/step - loss: 7.2966 - mae: 7.8068\n",
      "Epoch 52/100\n",
      "8/8 [==============================] - 1s 161ms/step - loss: 6.9670 - mae: 7.4467\n",
      "Epoch 53/100\n",
      "8/8 [==============================] - 1s 157ms/step - loss: 6.6019 - mae: 7.1167\n",
      "Epoch 54/100\n",
      "8/8 [==============================] - 1s 147ms/step - loss: 6.2816 - mae: 6.7790\n",
      "Epoch 55/100\n",
      "8/8 [==============================] - 1s 159ms/step - loss: 5.9630 - mae: 6.4550\n",
      "Epoch 56/100\n",
      "8/8 [==============================] - 2s 199ms/step - loss: 5.6553 - mae: 6.1556\n",
      "Epoch 57/100\n",
      "8/8 [==============================] - 1s 182ms/step - loss: 5.4114 - mae: 5.9035\n",
      "Epoch 58/100\n",
      "8/8 [==============================] - 1s 168ms/step - loss: 5.1819 - mae: 5.6731\n",
      "Epoch 59/100\n",
      "8/8 [==============================] - 1s 156ms/step - loss: 4.9632 - mae: 5.4522\n",
      "Epoch 60/100\n",
      "8/8 [==============================] - 1s 159ms/step - loss: 4.8358 - mae: 5.3024\n",
      "Epoch 61/100\n",
      "8/8 [==============================] - 1s 160ms/step - loss: 4.7321 - mae: 5.2023\n",
      "Epoch 62/100\n",
      "8/8 [==============================] - 1s 163ms/step - loss: 4.8682 - mae: 5.3703\n",
      "Epoch 63/100\n",
      "8/8 [==============================] - 1s 150ms/step - loss: 4.5986 - mae: 5.0651\n",
      "Epoch 64/100\n",
      "8/8 [==============================] - 1s 141ms/step - loss: 4.6455 - mae: 5.1537\n",
      "Epoch 65/100\n",
      "8/8 [==============================] - 1s 150ms/step - loss: 4.9038 - mae: 5.2999\n",
      "Epoch 66/100\n",
      "8/8 [==============================] - 1s 150ms/step - loss: 5.4482 - mae: 5.8400\n",
      "Epoch 67/100\n",
      "8/8 [==============================] - 1s 156ms/step - loss: 6.6370 - mae: 7.0376\n",
      "Epoch 68/100\n",
      "8/8 [==============================] - 1s 151ms/step - loss: 5.6617 - mae: 6.1962\n",
      "Epoch 69/100\n",
      "8/8 [==============================] - 1s 148ms/step - loss: 5.5978 - mae: 6.0980\n",
      "Epoch 70/100\n",
      "8/8 [==============================] - 1s 152ms/step - loss: 5.1668 - mae: 5.7123\n",
      "Epoch 71/100\n",
      "8/8 [==============================] - 1s 148ms/step - loss: 6.3346 - mae: 6.6886\n",
      "Epoch 72/100\n",
      "8/8 [==============================] - 1s 143ms/step - loss: 5.8422 - mae: 6.3166\n",
      "Epoch 73/100\n",
      "8/8 [==============================] - 1s 140ms/step - loss: 6.9769 - mae: 7.5455\n",
      "Epoch 74/100\n",
      "8/8 [==============================] - 1s 128ms/step - loss: 7.1978 - mae: 7.7223\n",
      "Epoch 75/100\n",
      "8/8 [==============================] - 1s 143ms/step - loss: 7.7238 - mae: 8.3902\n",
      "Epoch 76/100\n",
      "8/8 [==============================] - 1s 143ms/step - loss: 16.5786 - mae: 17.6651\n",
      "Epoch 77/100\n",
      "8/8 [==============================] - 1s 140ms/step - loss: 21.8144 - mae: 22.6916\n",
      "Epoch 78/100\n",
      "8/8 [==============================] - 1s 140ms/step - loss: 34.7579 - mae: 36.0798\n",
      "Epoch 79/100\n",
      "8/8 [==============================] - 1s 147ms/step - loss: 21.5440 - mae: 21.7264\n",
      "Epoch 80/100\n",
      "8/8 [==============================] - 1s 137ms/step - loss: 17.7911 - mae: 18.4040\n",
      "Epoch 81/100\n",
      "8/8 [==============================] - 1s 150ms/step - loss: 16.1336 - mae: 16.7164\n",
      "Epoch 82/100\n",
      "8/8 [==============================] - 1s 141ms/step - loss: 13.1692 - mae: 13.8174\n",
      "Epoch 83/100\n",
      "8/8 [==============================] - 1s 132ms/step - loss: 18.0983 - mae: 18.4691\n",
      "Epoch 84/100\n",
      "8/8 [==============================] - 1s 146ms/step - loss: 18.0065 - mae: 18.5128\n",
      "Epoch 85/100\n",
      "8/8 [==============================] - 1s 141ms/step - loss: 14.8832 - mae: 15.5427\n",
      "Epoch 86/100\n",
      "8/8 [==============================] - 1s 144ms/step - loss: 15.8407 - mae: 16.0242\n",
      "Epoch 87/100\n",
      "8/8 [==============================] - 1s 147ms/step - loss: 16.7104 - mae: 17.2282\n",
      "Epoch 88/100\n",
      "8/8 [==============================] - 1s 143ms/step - loss: 18.4311 - mae: 18.9970\n",
      "Epoch 89/100\n",
      "8/8 [==============================] - 1s 136ms/step - loss: 16.0676 - mae: 15.9963\n",
      "Epoch 90/100\n",
      "8/8 [==============================] - 1s 137ms/step - loss: 25.1790 - mae: 25.8227\n",
      "Epoch 91/100\n",
      "8/8 [==============================] - 1s 145ms/step - loss: 22.2115 - mae: 22.4735\n",
      "Epoch 92/100\n",
      "8/8 [==============================] - 1s 139ms/step - loss: 17.8038 - mae: 18.2060\n",
      "Epoch 93/100\n",
      "8/8 [==============================] - 1s 132ms/step - loss: 14.0547 - mae: 14.1759\n",
      "Epoch 94/100\n",
      "8/8 [==============================] - 1s 142ms/step - loss: 17.5642 - mae: 18.2202\n",
      "Epoch 95/100\n",
      "8/8 [==============================] - 1s 140ms/step - loss: 15.9512 - mae: 16.4590\n",
      "Epoch 96/100\n",
      "8/8 [==============================] - 1s 144ms/step - loss: 20.2822 - mae: 20.7799\n",
      "Epoch 97/100\n",
      "8/8 [==============================] - 1s 140ms/step - loss: 17.6044 - mae: 18.0762\n",
      "Epoch 98/100\n",
      "8/8 [==============================] - 1s 156ms/step - loss: 16.1164 - mae: 16.7424\n",
      "Epoch 99/100\n",
      "8/8 [==============================] - 1s 144ms/step - loss: 14.1536 - mae: 14.6954\n",
      "Epoch 100/100\n",
      "8/8 [==============================] - 1s 146ms/step - loss: 25.1258 - mae: 25.5371\n"
     ]
    }
   ],
   "source": [
    "lr_schedule = tf.keras.callbacks.LearningRateScheduler(\n",
    "    lambda epoch: 1e-8 * 10**(epoch / 20))\n",
    "optimizer = tf.keras.optimizers.SGD(lr=1e-8, momentum=0.9)\n",
    "model.compile(loss=tf.keras.losses.Huber(),\n",
    "              optimizer=optimizer,\n",
    "              metrics=[\"mae\"])\n",
    "history = model.fit(train_set, epochs=100, callbacks=[lr_schedule])"
   ]
  },
  {
   "cell_type": "markdown",
   "metadata": {},
   "source": [
    "Visualize the error and finding the right learning rate ($10^{-5}$ approximately)"
   ]
  },
  {
   "cell_type": "code",
   "execution_count": 13,
   "metadata": {
    "colab": {
     "base_uri": "https://localhost:8080/",
     "height": 291
    },
    "colab_type": "code",
    "executionInfo": {
     "elapsed": 991,
     "status": "ok",
     "timestamp": 1562042966144,
     "user": {
      "displayName": "Laurence Moroney",
      "photoUrl": "https://lh4.googleusercontent.com/-wUzpekukCVw/AAAAAAAAAAI/AAAAAAAAAHw/pQPstOOJqqE/s64/photo.jpg",
      "userId": "17858265307580721507"
     },
     "user_tz": 420
    },
    "id": "MjTvASUns0qh",
    "outputId": "2363d859-2dce-437e-a8ec-092a340ce218"
   },
   "outputs": [
    {
     "data": {
      "text/plain": [
       "[1e-08, 0.0001, 0, 30]"
      ]
     },
     "execution_count": 13,
     "metadata": {},
     "output_type": "execute_result"
    },
    {
     "data": {
      "image/png": "[encoded data removed]",
      "text/plain": [
       "<Figure size 432x288 with 1 Axes>"
      ]
     },
     "metadata": {
      "needs_background": "light"
     },
     "output_type": "display_data"
    }
   ],
   "source": [
    "plt.semilogx(history.history[\"lr\"], history.history[\"loss\"])\n",
    "plt.axis([1e-8, 1e-4, 0, 30])"
   ]
  },
  {
   "cell_type": "markdown",
   "metadata": {},
   "source": [
    "Re-running the model with right learning rate and modified convolutional layer"
   ]
  },
  {
   "cell_type": "code",
   "execution_count": 25,
   "metadata": {
    "colab": {
     "base_uri": "https://localhost:8080/",
     "height": 1000
    },
    "colab_type": "code",
    "executionInfo": {
     "elapsed": 536721,
     "status": "ok",
     "timestamp": 1562043510673,
     "user": {
      "displayName": "Laurence Moroney",
      "photoUrl": "https://lh4.googleusercontent.com/-wUzpekukCVw/AAAAAAAAAAI/AAAAAAAAAHw/pQPstOOJqqE/s64/photo.jpg",
      "userId": "17858265307580721507"
     },
     "user_tz": 420
    },
    "id": "4uh-97bpLZCA",
    "outputId": "3bf4e89f-d415-4476-879c-4b0eaddc84b5"
   },
   "outputs": [
    {
     "name": "stdout",
     "output_type": "stream",
     "text": [
      "Epoch 1/100\n",
      "31/31 [==============================] - 4s 131ms/step - loss: 21.5797 - mae: 22.331121.5713 - mae: 22.33\n",
      "Epoch 2/100\n",
      "31/31 [==============================] - 1s 37ms/step - loss: 8.2290 - mae: 8.7146\n",
      "Epoch 3/100\n",
      "31/31 [==============================] - 1s 33ms/step - loss: 6.6407 - mae: 7.1331\n",
      "Epoch 4/100\n",
      "31/31 [==============================] - 1s 35ms/step - loss: 6.1320 - mae: 6.6106\n",
      "Epoch 5/100\n",
      "31/31 [==============================] - 1s 35ms/step - loss: 5.8183 - mae: 6.3067\n",
      "Epoch 6/100\n",
      "31/31 [==============================] - 1s 34ms/step - loss: 5.5784 - mae: 6.0627\n",
      "Epoch 7/100\n",
      "31/31 [==============================] - 1s 36ms/step - loss: 5.4629 - mae: 5.9432\n",
      "Epoch 8/100\n",
      "31/31 [==============================] - 1s 39ms/step - loss: 5.3205 - mae: 5.7958\n",
      "Epoch 9/100\n",
      "31/31 [==============================] - 1s 38ms/step - loss: 5.2130 - mae: 5.7055\n",
      "Epoch 10/100\n",
      "31/31 [==============================] - 1s 34ms/step - loss: 5.2043 - mae: 5.6914\n",
      "Epoch 11/100\n",
      "31/31 [==============================] - 1s 35ms/step - loss: 5.1294 - mae: 5.6164\n",
      "Epoch 12/100\n",
      "31/31 [==============================] - 1s 35ms/step - loss: 5.0447 - mae: 5.5298\n",
      "Epoch 13/100\n",
      "31/31 [==============================] - 1s 34ms/step - loss: 5.0693 - mae: 5.5439\n",
      "Epoch 14/100\n",
      "31/31 [==============================] - 1s 34ms/step - loss: 5.0615 - mae: 5.5228\n",
      "Epoch 15/100\n",
      "31/31 [==============================] - 1s 36ms/step - loss: 4.9904 - mae: 5.4726\n",
      "Epoch 16/100\n",
      "31/31 [==============================] - 1s 35ms/step - loss: 4.9195 - mae: 5.4118: 0s - loss: 4.9611 - mae: 5.4\n",
      "Epoch 17/100\n",
      "31/31 [==============================] - 1s 36ms/step - loss: 5.0217 - mae: 5.4843\n",
      "Epoch 18/100\n",
      "31/31 [==============================] - 1s 37ms/step - loss: 4.8672 - mae: 5.3482\n",
      "Epoch 19/100\n",
      "31/31 [==============================] - 1s 37ms/step - loss: 4.8488 - mae: 5.3302\n",
      "Epoch 20/100\n",
      "31/31 [==============================] - 1s 38ms/step - loss: 4.8776 - mae: 5.3643\n",
      "Epoch 21/100\n",
      "31/31 [==============================] - 1s 36ms/step - loss: 4.8166 - mae: 5.2685\n",
      "Epoch 22/100\n",
      "31/31 [==============================] - 1s 34ms/step - loss: 4.7508 - mae: 5.2259\n",
      "Epoch 23/100\n",
      "31/31 [==============================] - 1s 36ms/step - loss: 4.7407 - mae: 5.2123\n",
      "Epoch 24/100\n",
      "31/31 [==============================] - 1s 36ms/step - loss: 4.7039 - mae: 5.1808\n",
      "Epoch 25/100\n",
      "31/31 [==============================] - 1s 34ms/step - loss: 4.6881 - mae: 5.1622\n",
      "Epoch 26/100\n",
      "31/31 [==============================] - 1s 35ms/step - loss: 4.7753 - mae: 5.2662\n",
      "Epoch 27/100\n",
      "31/31 [==============================] - 1s 35ms/step - loss: 4.6771 - mae: 5.1404\n",
      "Epoch 28/100\n",
      "31/31 [==============================] - 1s 35ms/step - loss: 4.6958 - mae: 5.1583\n",
      "Epoch 29/100\n",
      "31/31 [==============================] - 1s 36ms/step - loss: 4.6357 - mae: 5.1055\n",
      "Epoch 30/100\n",
      "31/31 [==============================] - 1s 36ms/step - loss: 4.6118 - mae: 5.0925\n",
      "Epoch 31/100\n",
      "31/31 [==============================] - 1s 37ms/step - loss: 4.5745 - mae: 5.0577\n",
      "Epoch 32/100\n",
      "31/31 [==============================] - 1s 35ms/step - loss: 4.5875 - mae: 5.0713\n",
      "Epoch 33/100\n",
      "31/31 [==============================] - 1s 39ms/step - loss: 4.6057 - mae: 5.0736\n",
      "Epoch 34/100\n",
      "31/31 [==============================] - 1s 37ms/step - loss: 4.5693 - mae: 5.0361\n",
      "Epoch 35/100\n",
      "31/31 [==============================] - 1s 33ms/step - loss: 4.5176 - mae: 4.9993\n",
      "Epoch 36/100\n",
      "31/31 [==============================] - 1s 35ms/step - loss: 4.5794 - mae: 5.0531\n",
      "Epoch 37/100\n",
      "31/31 [==============================] - 1s 34ms/step - loss: 4.5045 - mae: 4.9791\n",
      "Epoch 38/100\n",
      "31/31 [==============================] - 1s 34ms/step - loss: 4.5278 - mae: 4.9892\n",
      "Epoch 39/100\n",
      "31/31 [==============================] - 1s 37ms/step - loss: 4.4989 - mae: 4.9747\n",
      "Epoch 40/100\n",
      "31/31 [==============================] - 1s 37ms/step - loss: 4.5037 - mae: 4.9830\n",
      "Epoch 41/100\n",
      "31/31 [==============================] - 1s 38ms/step - loss: 4.4654 - mae: 4.9308\n",
      "Epoch 42/100\n",
      "31/31 [==============================] - 1s 37ms/step - loss: 4.5034 - mae: 4.9898\n",
      "Epoch 43/100\n",
      "31/31 [==============================] - 1s 34ms/step - loss: 4.4459 - mae: 4.9300\n",
      "Epoch 44/100\n",
      "31/31 [==============================] - 1s 34ms/step - loss: 4.4437 - mae: 4.9131\n",
      "Epoch 45/100\n",
      "31/31 [==============================] - 1s 35ms/step - loss: 4.5701 - mae: 5.0407\n",
      "Epoch 46/100\n",
      "31/31 [==============================] - 1s 38ms/step - loss: 4.5914 - mae: 5.0599\n",
      "Epoch 47/100\n",
      "31/31 [==============================] - 1s 35ms/step - loss: 4.5132 - mae: 4.9985\n",
      "Epoch 48/100\n",
      "31/31 [==============================] - 1s 35ms/step - loss: 4.4258 - mae: 4.8971\n",
      "Epoch 49/100\n",
      "31/31 [==============================] - 1s 34ms/step - loss: 4.4221 - mae: 4.8986\n",
      "Epoch 50/100\n",
      "31/31 [==============================] - 1s 45ms/step - loss: 4.4108 - mae: 4.8798\n",
      "Epoch 51/100\n",
      "31/31 [==============================] - 1s 35ms/step - loss: 4.4003 - mae: 4.8796\n",
      "Epoch 52/100\n",
      "31/31 [==============================] - 1s 35ms/step - loss: 4.3942 - mae: 4.8599\n",
      "Epoch 53/100\n",
      "31/31 [==============================] - 1s 35ms/step - loss: 4.5054 - mae: 4.9912\n",
      "Epoch 54/100\n",
      "31/31 [==============================] - 1s 37ms/step - loss: 4.4030 - mae: 4.8816\n",
      "Epoch 55/100\n",
      "31/31 [==============================] - 1s 39ms/step - loss: 4.3899 - mae: 4.8784\n",
      "Epoch 56/100\n",
      "31/31 [==============================] - 1s 37ms/step - loss: 4.5220 - mae: 5.0044\n",
      "Epoch 57/100\n",
      "31/31 [==============================] - 1s 37ms/step - loss: 4.3834 - mae: 4.8594\n",
      "Epoch 58/100\n",
      "31/31 [==============================] - 1s 37ms/step - loss: 4.3772 - mae: 4.8638\n",
      "Epoch 59/100\n",
      "31/31 [==============================] - 1s 36ms/step - loss: 4.3571 - mae: 4.8297\n",
      "Epoch 60/100\n",
      "31/31 [==============================] - 1s 35ms/step - loss: 4.3223 - mae: 4.8007\n",
      "Epoch 61/100\n",
      "31/31 [==============================] - 1s 35ms/step - loss: 4.3974 - mae: 4.8704\n",
      "Epoch 62/100\n",
      "31/31 [==============================] - 1s 36ms/step - loss: 4.3693 - mae: 4.8483\n",
      "Epoch 63/100\n",
      "31/31 [==============================] - 1s 37ms/step - loss: 4.3071 - mae: 4.7869\n",
      "Epoch 64/100\n",
      "31/31 [==============================] - 1s 36ms/step - loss: 4.3654 - mae: 4.8274\n",
      "Epoch 65/100\n",
      "31/31 [==============================] - 1s 41ms/step - loss: 4.3338 - mae: 4.8083\n",
      "Epoch 66/100\n",
      "31/31 [==============================] - 1s 40ms/step - loss: 4.3851 - mae: 4.8417\n",
      "Epoch 67/100\n",
      "31/31 [==============================] - 1s 35ms/step - loss: 4.3196 - mae: 4.8014: 1s - loss: 4.3120 - \n",
      "Epoch 68/100\n",
      "31/31 [==============================] - 1s 34ms/step - loss: 4.5285 - mae: 5.0058\n",
      "Epoch 69/100\n",
      "31/31 [==============================] - 1s 36ms/step - loss: 4.5203 - mae: 5.0120\n",
      "Epoch 70/100\n",
      "31/31 [==============================] - 1s 37ms/step - loss: 4.2740 - mae: 4.7532\n",
      "Epoch 71/100\n",
      "31/31 [==============================] - 1s 38ms/step - loss: 4.2726 - mae: 4.7557\n",
      "Epoch 72/100\n",
      "31/31 [==============================] - 1s 35ms/step - loss: 4.3006 - mae: 4.7727\n",
      "Epoch 73/100\n",
      "31/31 [==============================] - 1s 35ms/step - loss: 4.3623 - mae: 4.8400\n",
      "Epoch 74/100\n",
      "31/31 [==============================] - 1s 35ms/step - loss: 4.3399 - mae: 4.8247\n",
      "Epoch 75/100\n",
      "31/31 [==============================] - 1s 35ms/step - loss: 4.3014 - mae: 4.7808\n",
      "Epoch 76/100\n",
      "31/31 [==============================] - 1s 37ms/step - loss: 4.2555 - mae: 4.7279\n",
      "Epoch 77/100\n",
      "31/31 [==============================] - 1s 34ms/step - loss: 4.2577 - mae: 4.7357\n",
      "Epoch 78/100\n",
      "31/31 [==============================] - 1s 33ms/step - loss: 4.2503 - mae: 4.7326\n",
      "Epoch 79/100\n",
      "31/31 [==============================] - 1s 35ms/step - loss: 4.3182 - mae: 4.7963\n",
      "Epoch 80/100\n",
      "31/31 [==============================] - 1s 35ms/step - loss: 4.3143 - mae: 4.7711: 0s - loss: 4.3701 - ma\n",
      "Epoch 81/100\n",
      "31/31 [==============================] - 1s 34ms/step - loss: 4.2822 - mae: 4.7583\n",
      "Epoch 82/100\n",
      "31/31 [==============================] - 1s 35ms/step - loss: 4.2536 - mae: 4.7285\n",
      "Epoch 83/100\n",
      "31/31 [==============================] - 1s 38ms/step - loss: 4.3487 - mae: 4.8317\n",
      "Epoch 84/100\n",
      "31/31 [==============================] - 1s 33ms/step - loss: 4.3383 - mae: 4.8087\n",
      "Epoch 85/100\n",
      "31/31 [==============================] - 1s 34ms/step - loss: 4.4711 - mae: 4.9497\n",
      "Epoch 86/100\n",
      "31/31 [==============================] - 1s 33ms/step - loss: 4.3709 - mae: 4.8492\n",
      "Epoch 87/100\n",
      "31/31 [==============================] - 1s 33ms/step - loss: 4.2630 - mae: 4.7396\n",
      "Epoch 88/100\n",
      "31/31 [==============================] - 1s 33ms/step - loss: 4.3082 - mae: 4.7822\n",
      "Epoch 89/100\n",
      "31/31 [==============================] - 1s 37ms/step - loss: 4.2192 - mae: 4.7058\n",
      "Epoch 90/100\n",
      "31/31 [==============================] - 1s 38ms/step - loss: 4.2286 - mae: 4.6989\n",
      "Epoch 91/100\n",
      "31/31 [==============================] - 1s 33ms/step - loss: 4.2334 - mae: 4.7087\n",
      "Epoch 92/100\n",
      "31/31 [==============================] - 1s 33ms/step - loss: 4.2484 - mae: 4.7295\n",
      "Epoch 93/100\n",
      "31/31 [==============================] - 1s 38ms/step - loss: 4.2334 - mae: 4.7061: 0s - loss: 4.2244 - mae: \n",
      "Epoch 94/100\n",
      "31/31 [==============================] - 1s 39ms/step - loss: 4.2288 - mae: 4.6938\n",
      "Epoch 95/100\n",
      "31/31 [==============================] - 1s 37ms/step - loss: 4.3070 - mae: 4.7843\n",
      "Epoch 96/100\n",
      "31/31 [==============================] - 1s 39ms/step - loss: 4.2481 - mae: 4.7249\n",
      "Epoch 97/100\n",
      "31/31 [==============================] - 1s 36ms/step - loss: 4.2289 - mae: 4.6947\n",
      "Epoch 98/100\n",
      "31/31 [==============================] - 1s 35ms/step - loss: 4.2368 - mae: 4.7181\n",
      "Epoch 99/100\n",
      "31/31 [==============================] - 1s 35ms/step - loss: 4.3686 - mae: 4.8429\n",
      "Epoch 100/100\n",
      "31/31 [==============================] - 1s 36ms/step - loss: 4.2685 - mae: 4.7542\n"
     ]
    }
   ],
   "source": [
    "tf.keras.backend.clear_session()\n",
    "tf.random.set_seed(51)\n",
    "np.random.seed(51)\n",
    "#batch_size = 16\n",
    "dataset = windowed_dataset(x_train, window_size, batch_size, shuffle_buffer_size)\n",
    "\n",
    "model = tf.keras.models.Sequential([\n",
    "  tf.keras.layers.Conv1D(filters=32, kernel_size=3,\n",
    "                      strides=1, padding=\"causal\",\n",
    "                      activation=\"relu\",\n",
    "                      input_shape=[None, 1]),\n",
    "  tf.keras.layers.LSTM(32, return_sequences=True),\n",
    "  tf.keras.layers.LSTM(32, return_sequences=True),\n",
    "  tf.keras.layers.Dense(1),\n",
    "  tf.keras.layers.Lambda(lambda x: x * 200)\n",
    "])\n",
    "\n",
    "optimizer = tf.keras.optimizers.SGD(lr=1e-5, momentum=0.9)\n",
    "model.compile(loss=tf.keras.losses.Huber(),\n",
    "              optimizer=optimizer,\n",
    "              metrics=[\"mae\"])\n",
    "history = model.fit(dataset,epochs=100)"
   ]
  },
  {
   "cell_type": "markdown",
   "metadata": {},
   "source": [
    "Model prediction and comparing"
   ]
  },
  {
   "cell_type": "code",
   "execution_count": 26,
   "metadata": {
    "colab": {},
    "colab_type": "code",
    "id": "MKkic-mLdkRZ"
   },
   "outputs": [],
   "source": [
    "rnn_forecast = model_forecast(model, series[..., np.newaxis], window_size)\n",
    "rnn_forecast = rnn_forecast[split_time - window_size:-1, -1, 0]"
   ]
  },
  {
   "cell_type": "code",
   "execution_count": 27,
   "metadata": {
    "colab": {
     "base_uri": "https://localhost:8080/",
     "height": 393
    },
    "colab_type": "code",
    "executionInfo": {
     "elapsed": 737,
     "status": "ok",
     "timestamp": 1562043718191,
     "user": {
      "displayName": "Laurence Moroney",
      "photoUrl": "https://lh4.googleusercontent.com/-wUzpekukCVw/AAAAAAAAAAI/AAAAAAAAAHw/pQPstOOJqqE/s64/photo.jpg",
      "userId": "17858265307580721507"
     },
     "user_tz": 420
    },
    "id": "4N1toSetdnQq",
    "outputId": "2fd5cf78-6707-4bb2-9c09-8ef72eb4f6aa"
   },
   "outputs": [
    {
     "data": {
      "image/png": "[encoded data removed]",
      "text/plain": [
       "<Figure size 720x432 with 1 Axes>"
      ]
     },
     "metadata": {
      "needs_background": "light"
     },
     "output_type": "display_data"
    }
   ],
   "source": [
    "plt.figure(figsize=(10, 6))\n",
    "plot_series(time_valid, x_valid)\n",
    "plot_series(time_valid, rnn_forecast)"
   ]
  },
  {
   "cell_type": "code",
   "execution_count": 28,
   "metadata": {
    "colab": {
     "base_uri": "https://localhost:8080/",
     "height": 35
    },
    "colab_type": "code",
    "executionInfo": {
     "elapsed": 368,
     "status": "ok",
     "timestamp": 1562043721180,
     "user": {
      "displayName": "Laurence Moroney",
      "photoUrl": "https://lh4.googleusercontent.com/-wUzpekukCVw/AAAAAAAAAAI/AAAAAAAAAHw/pQPstOOJqqE/s64/photo.jpg",
      "userId": "17858265307580721507"
     },
     "user_tz": 420
    },
    "id": "ULKO3JINdqkp",
    "outputId": "92501507-62f4-4821-b93c-1dbdbbb2a64a"
   },
   "outputs": [
    {
     "data": {
      "text/plain": [
       "5.004377"
      ]
     },
     "execution_count": 28,
     "metadata": {},
     "output_type": "execute_result"
    }
   ],
   "source": [
    "tf.keras.metrics.mean_absolute_error(x_valid, rnn_forecast).numpy()"
   ]
  },
  {
   "cell_type": "markdown",
   "metadata": {},
   "source": [
    "Visualizing MAE and loss"
   ]
  },
  {
   "cell_type": "code",
   "execution_count": 29,
   "metadata": {
    "colab": {
     "base_uri": "https://localhost:8080/",
     "height": 608
    },
    "colab_type": "code",
    "executionInfo": {
     "elapsed": 828,
     "status": "ok",
     "timestamp": 1562043727845,
     "user": {
      "displayName": "Laurence Moroney",
      "photoUrl": "https://lh4.googleusercontent.com/-wUzpekukCVw/AAAAAAAAAAI/AAAAAAAAAHw/pQPstOOJqqE/s64/photo.jpg",
      "userId": "17858265307580721507"
     },
     "user_tz": 420
    },
    "id": "ok8LjNbbkig4",
    "outputId": "e6749235-530b-41e8-b709-a430eaea15e4"
   },
   "outputs": [
    {
     "data": {
      "text/plain": [
       "<Figure size 432x288 with 0 Axes>"
      ]
     },
     "execution_count": 29,
     "metadata": {},
     "output_type": "execute_result"
    },
    {
     "data": {
      "image/png": "[encoded data removed]",
      "text/plain": [
       "<Figure size 432x288 with 1 Axes>"
      ]
     },
     "metadata": {
      "needs_background": "light"
     },
     "output_type": "display_data"
    },
    {
     "data": {
      "image/png": "[encoded data removed]",
      "text/plain": [
       "<Figure size 432x288 with 1 Axes>"
      ]
     },
     "metadata": {
      "needs_background": "light"
     },
     "output_type": "display_data"
    },
    {
     "data": {
      "text/plain": [
       "<Figure size 432x288 with 0 Axes>"
      ]
     },
     "metadata": {},
     "output_type": "display_data"
    }
   ],
   "source": [
    "import matplotlib.image  as mpimg\n",
    "import matplotlib.pyplot as plt\n",
    "\n",
    "#-----------------------------------------------------------\n",
    "# Retrieve a list of list results on training and test data\n",
    "# sets for each training epoch\n",
    "#-----------------------------------------------------------\n",
    "mae=history.history['mae']\n",
    "loss=history.history['loss']\n",
    "\n",
    "epochs=range(len(loss)) # Get number of epochs\n",
    "\n",
    "#------------------------------------------------\n",
    "# Plot MAE and Loss\n",
    "#------------------------------------------------\n",
    "plt.plot(epochs, mae, 'r')\n",
    "plt.plot(epochs, loss, 'b')\n",
    "plt.title('MAE and Loss')\n",
    "plt.xlabel(\"Epochs\")\n",
    "plt.ylabel(\"Accuracy\")\n",
    "plt.legend([\"MAE\", \"Loss\"])\n",
    "\n",
    "plt.figure()\n",
    "\n",
    "epochs_zoom = epochs[20:]\n",
    "mae_zoom = mae[20:]\n",
    "loss_zoom = loss[20:]\n",
    "\n",
    "#------------------------------------------------\n",
    "# Plot Zoomed MAE and Loss\n",
    "#------------------------------------------------\n",
    "plt.plot(epochs_zoom, mae_zoom, 'r')\n",
    "plt.plot(epochs_zoom, loss_zoom, 'b')\n",
    "plt.title('MAE and Loss')\n",
    "plt.xlabel(\"Epochs\")\n",
    "plt.ylabel(\"Accuracy\")\n",
    "plt.legend([\"MAE\", \"Loss\"])\n",
    "\n",
    "plt.figure()"
   ]
  },
  {
   "cell_type": "markdown",
   "metadata": {},
   "source": [
    "## Try with DNN"
   ]
  },
  {
   "cell_type": "code",
   "execution_count": 34,
   "metadata": {},
   "outputs": [
    {
     "name": "stdout",
     "output_type": "stream",
     "text": [
      "<PrefetchDataset shapes: ((None, None), (None,)), types: (tf.float32, tf.float32)>\n"
     ]
    }
   ],
   "source": [
    "def windowed_dataset(series, window_size, batch_size, shuffle_buffer):\n",
    "  dataset = tf.data.Dataset.from_tensor_slices(series)\n",
    "  dataset = dataset.window(window_size + 1, shift=1, drop_remainder=True)\n",
    "  dataset = dataset.flat_map(lambda window: window.batch(window_size + 1))\n",
    "  dataset = dataset.shuffle(shuffle_buffer).map(lambda window: (window[:-1], window[-1]))\n",
    "  dataset = dataset.batch(batch_size).prefetch(1)\n",
    "  return dataset\n",
    "\n",
    "dataset = windowed_dataset(x_train, window_size, batch_size, shuffle_buffer_size)\n",
    "print(dataset)\n",
    "\n"
   ]
  },
  {
   "cell_type": "code",
   "execution_count": 35,
   "metadata": {},
   "outputs": [
    {
     "name": "stdout",
     "output_type": "stream",
     "text": [
      "Epoch 1/100\n",
      "31/31 [==============================] - 1s 22ms/step - loss: 121.8733\n",
      "Epoch 2/100\n",
      "31/31 [==============================] - 0s 8ms/step - loss: 94.7671\n",
      "Epoch 3/100\n",
      "31/31 [==============================] - 0s 8ms/step - loss: 86.0413\n",
      "Epoch 4/100\n",
      "31/31 [==============================] - 0s 8ms/step - loss: 79.9234\n",
      "Epoch 5/100\n",
      "31/31 [==============================] - 0s 8ms/step - loss: 77.2179\n",
      "Epoch 6/100\n",
      "31/31 [==============================] - 0s 10ms/step - loss: 73.2479\n",
      "Epoch 7/100\n",
      "31/31 [==============================] - 0s 10ms/step - loss: 71.7009\n",
      "Epoch 8/100\n",
      "31/31 [==============================] - 0s 8ms/step - loss: 69.7999\n",
      "Epoch 9/100\n",
      "31/31 [==============================] - 0s 7ms/step - loss: 68.0669\n",
      "Epoch 10/100\n",
      "31/31 [==============================] - 0s 8ms/step - loss: 65.9647\n",
      "Epoch 11/100\n",
      "31/31 [==============================] - 0s 8ms/step - loss: 64.4412\n",
      "Epoch 12/100\n",
      "31/31 [==============================] - 0s 8ms/step - loss: 63.1277\n",
      "Epoch 13/100\n",
      "31/31 [==============================] - 0s 10ms/step - loss: 62.3918\n",
      "Epoch 14/100\n",
      "31/31 [==============================] - 0s 13ms/step - loss: 61.6351\n",
      "Epoch 15/100\n",
      "31/31 [==============================] - 0s 13ms/step - loss: 62.7319\n",
      "Epoch 16/100\n",
      "31/31 [==============================] - 0s 11ms/step - loss: 60.5871\n",
      "Epoch 17/100\n",
      "31/31 [==============================] - 0s 8ms/step - loss: 64.0352\n",
      "Epoch 18/100\n",
      "31/31 [==============================] - 0s 8ms/step - loss: 58.2302\n",
      "Epoch 19/100\n",
      "31/31 [==============================] - 0s 7ms/step - loss: 57.5662\n",
      "Epoch 20/100\n",
      "31/31 [==============================] - 0s 9ms/step - loss: 58.0185\n",
      "Epoch 21/100\n",
      "31/31 [==============================] - 0s 8ms/step - loss: 58.4987\n",
      "Epoch 22/100\n",
      "31/31 [==============================] - 0s 8ms/step - loss: 56.2353\n",
      "Epoch 23/100\n",
      "31/31 [==============================] - 0s 9ms/step - loss: 57.1450\n",
      "Epoch 24/100\n",
      "31/31 [==============================] - 0s 8ms/step - loss: 55.7607\n",
      "Epoch 25/100\n",
      "31/31 [==============================] - 0s 8ms/step - loss: 55.9501\n",
      "Epoch 26/100\n",
      "31/31 [==============================] - 0s 7ms/step - loss: 54.3991\n",
      "Epoch 27/100\n",
      "31/31 [==============================] - 0s 8ms/step - loss: 55.4202\n",
      "Epoch 28/100\n",
      "31/31 [==============================] - 0s 10ms/step - loss: 54.6267\n",
      "Epoch 29/100\n",
      "31/31 [==============================] - 0s 7ms/step - loss: 55.1223\n",
      "Epoch 30/100\n",
      "31/31 [==============================] - 0s 8ms/step - loss: 54.0970\n",
      "Epoch 31/100\n",
      "31/31 [==============================] - 0s 7ms/step - loss: 53.5096\n",
      "Epoch 32/100\n",
      "31/31 [==============================] - 0s 7ms/step - loss: 53.0845\n",
      "Epoch 33/100\n",
      "31/31 [==============================] - 0s 8ms/step - loss: 53.3209\n",
      "Epoch 34/100\n",
      "31/31 [==============================] - 0s 8ms/step - loss: 53.5030\n",
      "Epoch 35/100\n",
      "31/31 [==============================] - 0s 8ms/step - loss: 52.4880\n",
      "Epoch 36/100\n",
      "31/31 [==============================] - 0s 7ms/step - loss: 52.3028\n",
      "Epoch 37/100\n",
      "31/31 [==============================] - 0s 8ms/step - loss: 52.2907\n",
      "Epoch 38/100\n",
      "31/31 [==============================] - 0s 8ms/step - loss: 51.6417: 0s - loss: 47.\n",
      "Epoch 39/100\n",
      "31/31 [==============================] - 0s 8ms/step - loss: 51.8366\n",
      "Epoch 40/100\n",
      "31/31 [==============================] - 0s 9ms/step - loss: 52.0447\n",
      "Epoch 41/100\n",
      "31/31 [==============================] - 0s 10ms/step - loss: 51.8359\n",
      "Epoch 42/100\n",
      "31/31 [==============================] - 0s 7ms/step - loss: 51.1754\n",
      "Epoch 43/100\n",
      "31/31 [==============================] - 0s 8ms/step - loss: 51.4246\n",
      "Epoch 44/100\n",
      "31/31 [==============================] - 0s 8ms/step - loss: 53.2710\n",
      "Epoch 45/100\n",
      "31/31 [==============================] - 0s 9ms/step - loss: 52.0392\n",
      "Epoch 46/100\n",
      "31/31 [==============================] - 0s 9ms/step - loss: 51.5090\n",
      "Epoch 47/100\n",
      "31/31 [==============================] - 0s 8ms/step - loss: 50.4617\n",
      "Epoch 48/100\n",
      "31/31 [==============================] - 0s 8ms/step - loss: 50.9955\n",
      "Epoch 49/100\n",
      "31/31 [==============================] - 0s 7ms/step - loss: 50.3172\n",
      "Epoch 50/100\n",
      "31/31 [==============================] - 0s 7ms/step - loss: 50.4152\n",
      "Epoch 51/100\n",
      "31/31 [==============================] - 0s 9ms/step - loss: 51.7450\n",
      "Epoch 52/100\n",
      "31/31 [==============================] - 0s 8ms/step - loss: 50.6858\n",
      "Epoch 53/100\n",
      "31/31 [==============================] - 0s 8ms/step - loss: 50.7980\n",
      "Epoch 54/100\n",
      "31/31 [==============================] - 0s 8ms/step - loss: 50.0721\n",
      "Epoch 55/100\n",
      "31/31 [==============================] - 0s 8ms/step - loss: 49.7650\n",
      "Epoch 56/100\n",
      "31/31 [==============================] - 0s 8ms/step - loss: 49.5162\n",
      "Epoch 57/100\n",
      "31/31 [==============================] - 0s 7ms/step - loss: 49.3847\n",
      "Epoch 58/100\n",
      "31/31 [==============================] - 0s 8ms/step - loss: 50.0524\n",
      "Epoch 59/100\n",
      "31/31 [==============================] - 0s 9ms/step - loss: 49.2899\n",
      "Epoch 60/100\n",
      "31/31 [==============================] - 0s 9ms/step - loss: 49.7797\n",
      "Epoch 61/100\n",
      "31/31 [==============================] - 0s 8ms/step - loss: 53.5905\n",
      "Epoch 62/100\n",
      "31/31 [==============================] - 0s 9ms/step - loss: 48.9443\n",
      "Epoch 63/100\n",
      "31/31 [==============================] - 0s 9ms/step - loss: 48.9293\n",
      "Epoch 64/100\n",
      "31/31 [==============================] - 0s 8ms/step - loss: 49.4126\n",
      "Epoch 65/100\n",
      "31/31 [==============================] - 0s 8ms/step - loss: 48.7177\n",
      "Epoch 66/100\n",
      "31/31 [==============================] - 0s 7ms/step - loss: 48.7691\n",
      "Epoch 67/100\n",
      "31/31 [==============================] - 0s 9ms/step - loss: 51.3939\n",
      "Epoch 68/100\n",
      "31/31 [==============================] - 0s 8ms/step - loss: 48.8813\n",
      "Epoch 69/100\n",
      "31/31 [==============================] - 0s 8ms/step - loss: 48.0959\n",
      "Epoch 70/100\n",
      "31/31 [==============================] - 0s 8ms/step - loss: 48.5365\n",
      "Epoch 71/100\n",
      "31/31 [==============================] - 0s 9ms/step - loss: 49.1992\n",
      "Epoch 72/100\n",
      "31/31 [==============================] - 0s 7ms/step - loss: 48.4080\n",
      "Epoch 73/100\n",
      "31/31 [==============================] - 0s 9ms/step - loss: 48.1338\n",
      "Epoch 74/100\n",
      "31/31 [==============================] - 0s 8ms/step - loss: 51.3594\n",
      "Epoch 75/100\n",
      "31/31 [==============================] - 0s 9ms/step - loss: 48.4979\n",
      "Epoch 76/100\n",
      "31/31 [==============================] - 0s 13ms/step - loss: 48.0938\n",
      "Epoch 77/100\n",
      "31/31 [==============================] - 0s 10ms/step - loss: 53.0658\n",
      "Epoch 78/100\n",
      "31/31 [==============================] - 0s 8ms/step - loss: 47.6482\n",
      "Epoch 79/100\n",
      "31/31 [==============================] - 0s 8ms/step - loss: 47.8123\n",
      "Epoch 80/100\n",
      "31/31 [==============================] - 0s 8ms/step - loss: 47.5361\n",
      "Epoch 81/100\n",
      "31/31 [==============================] - 0s 9ms/step - loss: 49.4570\n",
      "Epoch 82/100\n",
      "31/31 [==============================] - 0s 10ms/step - loss: 47.8292\n",
      "Epoch 83/100\n",
      "31/31 [==============================] - 0s 10ms/step - loss: 47.1451\n",
      "Epoch 84/100\n",
      "31/31 [==============================] - 0s 10ms/step - loss: 47.5159\n",
      "Epoch 85/100\n",
      "31/31 [==============================] - 0s 8ms/step - loss: 47.3949\n",
      "Epoch 86/100\n",
      "31/31 [==============================] - 0s 8ms/step - loss: 47.6146\n",
      "Epoch 87/100\n",
      "31/31 [==============================] - 0s 8ms/step - loss: 48.3035\n",
      "Epoch 88/100\n",
      "31/31 [==============================] - 0s 10ms/step - loss: 46.9548\n",
      "Epoch 89/100\n",
      "31/31 [==============================] - 0s 8ms/step - loss: 47.7471\n",
      "Epoch 90/100\n",
      "31/31 [==============================] - 0s 9ms/step - loss: 47.8347\n",
      "Epoch 91/100\n",
      "31/31 [==============================] - 0s 9ms/step - loss: 47.2002\n",
      "Epoch 92/100\n",
      "31/31 [==============================] - 0s 10ms/step - loss: 46.7974\n",
      "Epoch 93/100\n",
      "31/31 [==============================] - 0s 10ms/step - loss: 47.1066\n",
      "Epoch 94/100\n",
      "31/31 [==============================] - 0s 9ms/step - loss: 47.4774\n",
      "Epoch 95/100\n",
      "31/31 [==============================] - 0s 9ms/step - loss: 46.8267\n",
      "Epoch 96/100\n",
      "31/31 [==============================] - 0s 9ms/step - loss: 47.0334\n",
      "Epoch 97/100\n",
      "31/31 [==============================] - 0s 12ms/step - loss: 47.8820\n",
      "Epoch 98/100\n",
      "31/31 [==============================] - 0s 10ms/step - loss: 46.3023\n",
      "Epoch 99/100\n",
      "31/31 [==============================] - 0s 9ms/step - loss: 46.5207\n",
      "Epoch 100/100\n"
     ]
    },
    {
     "name": "stdout",
     "output_type": "stream",
     "text": [
      "31/31 [==============================] - 0s 8ms/step - loss: 46.4385\n"
     ]
    },
    {
     "data": {
      "text/plain": [
       "<tensorflow.python.keras.callbacks.History at 0x205ace6e0c8>"
      ]
     },
     "execution_count": 35,
     "metadata": {},
     "output_type": "execute_result"
    }
   ],
   "source": [
    "model = tf.keras.models.Sequential([\n",
    "    tf.keras.layers.Dense(10, input_shape=[window_size], activation=\"relu\"), \n",
    "    tf.keras.layers.Dense(10, activation=\"relu\"), \n",
    "    tf.keras.layers.Dense(1)\n",
    "])\n",
    "\n",
    "model.compile(loss=\"mse\", optimizer=tf.keras.optimizers.SGD(lr=1e-6, momentum=0.9))\n",
    "model.fit(dataset,epochs=100)"
   ]
  },
  {
   "cell_type": "code",
   "execution_count": 36,
   "metadata": {},
   "outputs": [
    {
     "name": "stdout",
     "output_type": "stream",
     "text": [
      "[ 63.51229   66.70206   68.56336   68.64332   59.412083  64.881386\n",
      "  66.72695   66.302536  67.15385   67.08288   64.40304   65.12412\n",
      "  65.94476   70.06018   64.9204    68.04707   65.88434   64.93526\n",
      "  62.250164  64.02392   61.960896  65.20143   65.78641   65.84934\n",
      "  65.68458   66.969055  70.34663   66.97534   65.70968   64.565704\n",
      "  63.106598  62.214878  61.376884  63.703453  64.92902   63.850895\n",
      "  65.684494  64.18138   60.123997  63.929253  64.85987   72.550995\n",
      "  64.75533   63.80911   65.45265   67.081955  68.727646  66.50866\n",
      "  61.109093  66.390656  69.66539   67.1633    65.56826   63.1926\n",
      "  67.64039   65.54908   62.447678  62.88102   64.48942   67.82911\n",
      "  65.41391   69.002754  62.867104  59.572124  61.29029   63.00589\n",
      "  61.972797  62.42097   61.51455   64.70829   62.963913  66.35752\n",
      "  65.85508   65.6366    63.304417  66.62097   64.461266  59.730812\n",
      "  63.708794  67.88038   67.67342   66.29779   62.26849   65.03188\n",
      "  70.75614   67.50289   70.14942   65.640915  67.10859   69.82268\n",
      "  65.50576   65.94753   64.1908    67.96428   67.317696  67.50465\n",
      "  82.22511   89.29572   92.95637   97.80633  100.07673  107.65308\n",
      "  99.631355 100.746025 102.258575 107.929474 100.29034  105.24244\n",
      " 101.644875 101.65226  103.77949  105.47489  103.622795 104.59894\n",
      " 104.32913  103.830414 103.8825   108.66015  109.12944  102.590065\n",
      " 101.0998   109.33751  110.66434  104.622345 102.42155  106.13747\n",
      " 102.36907   97.889725  97.54565   99.64439   98.91572  101.901115\n",
      "  97.85806  102.14216   98.56118  100.74733   99.34709   99.95532\n",
      "  98.61401   94.93229   96.32144   96.275246  98.673325  97.5524\n",
      "  93.005486  93.36442   93.44233   91.35778   89.86299   88.08146\n",
      "  91.07725   88.86048   83.599785  85.73408   84.52075   88.66802\n",
      "  88.18125   89.63494   89.251045  90.07218   86.94137   81.696\n",
      "  85.931175  83.903114  80.48205   80.29624   87.746475  87.748344\n",
      "  87.2441    83.11574   86.91858   83.389015  81.6269    77.62588\n",
      "  79.38967   77.890594  76.63464   73.3259    71.80792   72.69847\n",
      "  73.180145  72.37491   72.71946   76.48498   71.89038   65.46313\n",
      "  68.101555  71.20551   71.62578   64.65748   66.07865   68.32321\n",
      "  66.35738   63.392677  63.713585  60.879383  61.59764   63.41135\n",
      "  62.11859   64.025215  62.749043  62.347683  61.39487   60.156055\n",
      "  62.058502  56.66226   57.523758  58.491154  57.60532   53.233223\n",
      "  53.478218  55.099483  52.94521   48.89372   54.841183  52.32769\n",
      "  53.537827  50.356377  51.345505  49.905777  52.223503  50.264503\n",
      "  50.087048  47.488445  51.09189   49.152283  48.277     44.5278\n",
      "  45.509983  45.72887   49.764183  49.581074  41.627125  40.402615\n",
      "  45.65027   47.29159   48.199593  44.999596  44.672894  42.46216\n",
      "  45.47695   44.759586  59.45848   63.04768   72.52061   75.14801\n",
      "  75.902405  76.06264   83.098595  80.59751   79.884735  78.454704\n",
      "  81.31321   79.65577   80.72837   86.60452   84.16073   86.01892\n",
      "  81.97676   81.63073   86.45634   79.25797   84.88236   87.46778\n",
      "  81.69407   82.045494  76.70767   80.5271    85.69172   83.20011\n",
      "  85.15103   82.85543   84.82086   83.03309   78.5693    84.592995\n",
      "  83.36799   87.72056   85.71267   82.41396   83.824326  81.77022\n",
      "  82.16856   85.625175  82.03819   81.62909   78.99432   76.36969\n",
      "  79.48709   77.98177   75.8584    77.95208   85.33564   84.301926\n",
      "  81.397064  81.76931   84.58852   84.2899    83.32145   79.57734\n",
      "  81.89573   79.49757   82.64409   84.731285  80.421524  80.51375\n",
      "  79.04737   79.573494  80.166565  84.89482   83.82127   79.19292\n",
      "  82.490585  87.23489   85.52567   82.02578   77.90593   81.078674\n",
      "  81.01495   78.55033   80.25071   78.79565   81.36996   82.06388\n",
      "  81.0096    81.84175   77.40976   75.9257    79.01382   77.35406\n",
      "  81.099174  81.812805  83.29327   83.52001   84.69735   84.76319\n",
      "  81.28698   78.609535  80.02962   80.98989   81.1049    78.960365\n",
      "  80.43495   82.16869   83.37598   85.31009   80.99804   74.56626\n",
      "  77.86918   79.36428   80.28832   76.43374   76.39501   78.500046\n",
      "  81.01389   80.02398   78.23856   76.22827   77.85568   78.52505\n",
      "  81.18542   78.74965   80.1751    82.2734    79.7048    82.82954\n",
      "  83.443596  78.03032   77.97947   81.729576  80.00659   80.160706\n",
      "  77.748024  80.84436   79.38488   81.72944   82.1442    76.79975\n",
      "  82.51595   83.42701   85.93202   83.73092   80.19297   87.38045\n",
      "  83.66213   82.25176   85.16414   86.16679   88.290955  83.58561\n",
      "  81.37065   83.82755   82.39953   90.16609   82.13209   81.44046\n",
      "  82.399994  82.52634   81.245384  79.494064  81.47432   83.20828\n",
      "  79.73259   83.74374   85.57182   83.883255  85.124115  79.08902\n",
      "  84.081825  83.82302   79.884285  83.939804  83.68461   86.22099\n",
      "  90.33527   82.75961   84.20182   82.53423   83.175446  87.64756\n",
      "  86.53255   85.157234  84.25388   83.45523   84.07863   82.6731\n",
      "  77.09681   80.573875  82.527885  84.16093   81.29996   82.54591\n",
      "  83.02604   85.4936    83.746185  82.42643   82.030365  84.79086\n",
      "  84.16833   86.58002   86.87718   84.37711   87.88673   84.890396\n",
      "  83.12618   82.68188   81.15373   82.62094   86.18973   84.45596\n",
      "  83.97514   82.1048    87.273834  90.102196  87.90078   88.5656\n",
      "  82.8008    84.01216   86.59618   86.91745   86.44475 ]\n"
     ]
    },
    {
     "data": {
      "image/png": "[encoded data removed]",
      "text/plain": [
       "<Figure size 720x432 with 1 Axes>"
      ]
     },
     "metadata": {
      "needs_background": "light"
     },
     "output_type": "display_data"
    }
   ],
   "source": [
    "forecast = []\n",
    "\n",
    "for time in range(len(series) - window_size):\n",
    "  forecast.append(model.predict(series[time:time + window_size][np.newaxis]))\n",
    "  \n",
    "forecast = forecast[split_time-window_size:]\n",
    "results = np.array(forecast)[:, 0, 0]\n",
    "\n",
    "print(results)\n",
    "plt.figure(figsize=(10, 6))\n",
    "\n",
    "plot_series(time_valid, x_valid)\n",
    "plot_series(time_valid, results)"
   ]
  },
  {
   "cell_type": "code",
   "execution_count": null,
   "metadata": {},
   "outputs": [],
   "source": []
  }
 ],
 "metadata": {
  "colab": {
   "collapsed_sections": [],
   "name": "Copy of S+P Week 4 Lesson 1.ipynb",
   "provenance": [
    {
     "file_id": "https://github.com/lmoroney/dlaicourse/blob/master/TensorFlow%20In%20Practice/Course%204%20-%20S%2BP/S%2BP%20Week%204%20Lesson%201.ipynb",
     "timestamp": 1564653448907
    },
    {
     "file_id": "1rRlBHaLeYYmk8FaFypBgBDY2fQkKD67z",
     "timestamp": 1561942271945
    },
    {
     "file_id": "1M3Wn2-1epbDKQOcvYOepgi-pZSoOwwZN",
     "timestamp": 1561934268786
    },
    {
     "file_id": "1sGBr5jgLCXxWhNXC1ddMuxATeaYP8acr",
     "timestamp": 1561871087124
    },
    {
     "file_id": "1w4NClM1RKEfzmeK8uVGrTtxPt0NJmUhf",
     "timestamp": 1561778911582
    }
   ],
   "version": "0.3.2"
  },
  "kernelspec": {
   "display_name": "Python 3",
   "language": "python",
   "name": "python3"
  },
  "language_info": {
   "codemirror_mode": {
    "name": "ipython",
    "version": 3
   },
   "file_extension": ".py",
   "mimetype": "text/x-python",
   "name": "python",
   "nbconvert_exporter": "python",
   "pygments_lexer": "ipython3",
   "version": "3.7.4"
  }
 },
 "nbformat": 4,
 "nbformat_minor": 1
}
